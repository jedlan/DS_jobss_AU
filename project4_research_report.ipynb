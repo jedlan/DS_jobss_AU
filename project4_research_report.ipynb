{
 "cells": [
  {
   "cell_type": "markdown",
   "metadata": {
    "collapsed": true
   },
   "source": [
    "# Research Report Acme Recruitment Growth"
   ]
  },
  {
   "cell_type": "markdown",
   "metadata": {},
   "source": [
    "# Executive Summary"
   ]
  },
  {
   "cell_type": "markdown",
   "metadata": {},
   "source": [
    "The purpose of this project is to utilise the vast amount of data collected by Acme Recruitment company.  We aim to utilise the data to administer statistical modelling and testing to determine the following:\n",
    "1.\tKey industry factors most important in predicting the salary ranges for data related jobs including data scientist, business analyst, data analyst etc. \n",
    "2.\tKey factors that distinguish job categories and titles and answer the question of whether required skills can predict salary ranges? Which features, SKILLS, KEYWORDS hold the greatest significance. \n"
   ]
  },
  {
   "cell_type": "markdown",
   "metadata": {},
   "source": [
    "# Introduction"
   ]
  },
  {
   "cell_type": "markdown",
   "metadata": {},
   "source": [
    "The Data Science landscape has developed vastly over the last few years and in order to maintain a competitive advantage our Principle at Acme Recruitment has ordered a report on utilising the data on hand to gain better insights with the end goal of providing for both clients and companies for whom we recruit.\n",
    "\n",
    "This has led to the newly formed Data Science department – population = 1 at the moment.\n",
    "\n",
    "With this study, I am expecting to find key features that distinguish a Data science job from others. This would be a key to creating a Job Description for our new role. The Human Resources team has been researching on the salary ranges to help in their budgeting for the year.\n"
   ]
  },
  {
   "cell_type": "markdown",
   "metadata": {},
   "source": [
    "# Methods"
   ]
  },
  {
   "cell_type": "markdown",
   "metadata": {},
   "source": [
    "Our sample data was collected from the job listing website seek.com.au using web scraping techniques in Python. This final data set included: Job Title, Company Name, Location, Salary (averaged when it was a range), body1(job description) and Job skills.\n",
    "It took significant time to extract and in the end we were able to extract 2203 records for analysis. We utilised many of Pythons, modules including: Pandas, Numpy, Matplotlib, nltk, sklearn amongst others. \n",
    "\n",
    "The Exploratory Data Analysis involved, creating dummy columns for industry, location and job title.  Was due to the nature of the study and outcomes we were aiming to achieve.  We had to ensure that the information was ideal for modelling.\n",
    "The next challenge was the Salary, there were many null factors and different formats that required re-engineering to ensure that the values were once agains suitable for modelling and analysis.\n",
    "\n",
    "Data Scientists narrowly have the highest median salary and  there is little disparity in their lowest and highest range. \n",
    "\n",
    "Banking and finance, Consultant  + Strategists and ICT have the largest ranges in job salaries and the highest median salary of the other industries. This may be due to the higher volume, and specific segments within the idnustry that determine this oucome.\n",
    "\n",
    "We used Regression and Classification Algorithms to answer the questions asked of the data focussing on the salary.\n",
    "\n",
    "The principle is interested in what overall features hold the greatest significance.\n",
    "HR is interested in which SKILLS and KEY WORDS hold the greatest significance.\n",
    "\n",
    "From the regression models in Python we tuned using L2 regularization, we also used lasso and elasticnetCV as the accuracy was not optimal.  However in reverting to a classifier model in decision tree classidification we were able to garner much more accurate results.\n"
   ]
  },
  {
   "cell_type": "markdown",
   "metadata": {},
   "source": [
    "# Conclusion "
   ]
  },
  {
   "cell_type": "markdown",
   "metadata": {},
   "source": [
    "From the analysis and modelling to utilise the best features to predict the salary for Data Science jobs in Australia.  The modelling results we have found to be unsatisfactory at this point in time.  The accuracy scores we well be the 95% accuracy that Acme requires for implementation. \n"
   ]
  },
  {
   "cell_type": "markdown",
   "metadata": {},
   "source": [
    "# Recommendations "
   ]
  },
  {
   "cell_type": "markdown",
   "metadata": {},
   "source": [
    "With more time we would recommend the following:\n",
    "\n",
    "1. Collating more data over a period of 6 months in order to negate any seasonal periods which may affect the listings.\n",
    "2. Testing other methods, we did find better results with the decision trees.  more exploration could garner better results."
   ]
  },
  {
   "cell_type": "markdown",
   "metadata": {},
   "source": [
    "# This ends the report"
   ]
  }
 ],
 "metadata": {
  "kernelspec": {
   "display_name": "Python 3",
   "language": "python",
   "name": "python3"
  },
  "language_info": {
   "codemirror_mode": {
    "name": "ipython",
    "version": 3
   },
   "file_extension": ".py",
   "mimetype": "text/x-python",
   "name": "python",
   "nbconvert_exporter": "python",
   "pygments_lexer": "ipython3",
   "version": "3.5.2"
  }
 },
 "nbformat": 4,
 "nbformat_minor": 2
}
