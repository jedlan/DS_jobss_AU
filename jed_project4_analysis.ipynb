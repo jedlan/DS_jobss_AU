{
 "cells": [
  {
   "cell_type": "markdown",
   "metadata": {},
   "source": [
    "# Data Science Jobs market Australia"
   ]
  },
  {
   "cell_type": "markdown",
   "metadata": {},
   "source": [
    "I've decided to look at the Data scientist, Machine Learning, business Analyst and big data type roles.\n",
    "1. Determine the industry factors that are most important in predicting the salary amounts for these data.\n",
    "2. Determine the factors that distinguish job categories and titles from each other. For example, can required skills accurately predict job title?\n",
    "You have learned a variety of new skills and models that may be useful for this problem:\n",
    "- NLP\n",
    "- Unsupervised learning and dimensionality reduction techniques (PCA, clustering)\n",
    "- Ensemble methods and decision tree models\n",
    "- SVM models\n"
   ]
  },
  {
   "cell_type": "code",
   "execution_count": 1,
   "metadata": {
    "collapsed": true
   },
   "outputs": [],
   "source": [
    "import pandas as pd\n",
    "import numpy as np\n",
    "import seaborn as sns\n",
    "import matplotlib.pyplot as plt\n",
    "import re\n"
   ]
  },
  {
   "cell_type": "code",
   "execution_count": 2,
   "metadata": {
    "collapsed": true
   },
   "outputs": [],
   "source": [
    "# read in data\n",
    "jobs = pd.read_csv('/home/dsi-student/Project4/total_jobs.csv')"
   ]
  },
  {
   "cell_type": "code",
   "execution_count": 3,
   "metadata": {},
   "outputs": [
    {
     "data": {
      "text/html": [
       "<div>\n",
       "<table border=\"1\" class=\"dataframe\">\n",
       "  <thead>\n",
       "    <tr style=\"text-align: right;\">\n",
       "      <th></th>\n",
       "      <th>title</th>\n",
       "      <th>company</th>\n",
       "      <th>location</th>\n",
       "      <th>industry</th>\n",
       "      <th>job_type</th>\n",
       "      <th>salary</th>\n",
       "      <th>body1</th>\n",
       "      <th>date</th>\n",
       "    </tr>\n",
       "  </thead>\n",
       "  <tbody>\n",
       "    <tr>\n",
       "      <th>0</th>\n",
       "      <td>Data Scientist / Analytics Specialist</td>\n",
       "      <td>Data#3 Limited -</td>\n",
       "      <td>Location: Sydney CBD, Inner West &amp; Eastern Sub...</td>\n",
       "      <td>Information &amp; Communication Technology</td>\n",
       "      <td>NaN</td>\n",
       "      <td>NaN</td>\n",
       "      <td>Are you a talented and skilled IT professional...</td>\n",
       "      <td>13 May 2017</td>\n",
       "    </tr>\n",
       "    <tr>\n",
       "      <th>1</th>\n",
       "      <td>Data Scientist - Senior Consultant</td>\n",
       "      <td>Adaps IT -</td>\n",
       "      <td>Location: Melbourne CBD &amp; Inner Suburbs</td>\n",
       "      <td>Information &amp; Communication Technology</td>\n",
       "      <td>NaN</td>\n",
       "      <td>NaN</td>\n",
       "      <td>Role: Data Scientist - Senior Consultant\\nExce...</td>\n",
       "      <td>12 May 2017</td>\n",
       "    </tr>\n",
       "    <tr>\n",
       "      <th>2</th>\n",
       "      <td>Research Officer / Data Scientist .Work Locati...</td>\n",
       "      <td>Peoplebank Australia ACT -</td>\n",
       "      <td>Location: Sydney CBD, Inner West &amp; Eastern Sub...</td>\n",
       "      <td>Administration &amp; Office Support</td>\n",
       "      <td>NaN</td>\n",
       "      <td>NaN</td>\n",
       "      <td>Our client is looking a Research Officer / Dat...</td>\n",
       "      <td>12 May 2017</td>\n",
       "    </tr>\n",
       "    <tr>\n",
       "      <th>3</th>\n",
       "      <td>Research Officer / Data Scientist</td>\n",
       "      <td>Peoplebank Australia ACT -</td>\n",
       "      <td>Location: ACT</td>\n",
       "      <td>Administration &amp; Office Support</td>\n",
       "      <td>NaN</td>\n",
       "      <td>NaN</td>\n",
       "      <td>Our client is looking a Research Officer / Dat...</td>\n",
       "      <td>12 May 2017</td>\n",
       "    </tr>\n",
       "    <tr>\n",
       "      <th>4</th>\n",
       "      <td>2 X Data Scientist</td>\n",
       "      <td>Ambition Technology -</td>\n",
       "      <td>Location: Sydney CBD, Inner West &amp; Eastern Sub...</td>\n",
       "      <td>Information &amp; Communication Technology</td>\n",
       "      <td>NaN</td>\n",
       "      <td>Compe</td>\n",
       "      <td>About this role:\\nMy client is looking for two...</td>\n",
       "      <td>11 May 2017</td>\n",
       "    </tr>\n",
       "  </tbody>\n",
       "</table>\n",
       "</div>"
      ],
      "text/plain": [
       "                                               title  \\\n",
       "0              Data Scientist / Analytics Specialist   \n",
       "1                 Data Scientist - Senior Consultant   \n",
       "2  Research Officer / Data Scientist .Work Locati...   \n",
       "3                  Research Officer / Data Scientist   \n",
       "4                                 2 X Data Scientist   \n",
       "\n",
       "                      company  \\\n",
       "0            Data#3 Limited -   \n",
       "1                  Adaps IT -   \n",
       "2  Peoplebank Australia ACT -   \n",
       "3  Peoplebank Australia ACT -   \n",
       "4       Ambition Technology -   \n",
       "\n",
       "                                            location  \\\n",
       "0  Location: Sydney CBD, Inner West & Eastern Sub...   \n",
       "1            Location: Melbourne CBD & Inner Suburbs   \n",
       "2  Location: Sydney CBD, Inner West & Eastern Sub...   \n",
       "3                                      Location: ACT   \n",
       "4  Location: Sydney CBD, Inner West & Eastern Sub...   \n",
       "\n",
       "                                 industry  job_type salary  \\\n",
       "0  Information & Communication Technology       NaN    NaN   \n",
       "1  Information & Communication Technology       NaN    NaN   \n",
       "2         Administration & Office Support       NaN    NaN   \n",
       "3         Administration & Office Support       NaN    NaN   \n",
       "4  Information & Communication Technology       NaN  Compe   \n",
       "\n",
       "                                               body1         date  \n",
       "0  Are you a talented and skilled IT professional...  13 May 2017  \n",
       "1  Role: Data Scientist - Senior Consultant\\nExce...  12 May 2017  \n",
       "2  Our client is looking a Research Officer / Dat...  12 May 2017  \n",
       "3  Our client is looking a Research Officer / Dat...  12 May 2017  \n",
       "4  About this role:\\nMy client is looking for two...  11 May 2017  "
      ]
     },
     "execution_count": 3,
     "metadata": {},
     "output_type": "execute_result"
    }
   ],
   "source": [
    "jobs.head()"
   ]
  },
  {
   "cell_type": "code",
   "execution_count": 4,
   "metadata": {},
   "outputs": [
    {
     "name": "stdout",
     "output_type": "stream",
     "text": [
      "<class 'pandas.core.frame.DataFrame'>\n",
      "Int64Index: 2204 entries, 0 to 2203\n",
      "Data columns (total 8 columns):\n",
      "title       2204 non-null object\n",
      "company     2204 non-null object\n",
      "location    2203 non-null object\n",
      "industry    2203 non-null object\n",
      "job_type    0 non-null float64\n",
      "salary      724 non-null object\n",
      "body1       2165 non-null object\n",
      "date        2203 non-null object\n",
      "dtypes: float64(1), object(7)\n",
      "memory usage: 155.0+ KB\n"
     ]
    },
    {
     "data": {
      "text/plain": [
       "(2204, 8)"
      ]
     },
     "execution_count": 4,
     "metadata": {},
     "output_type": "execute_result"
    }
   ],
   "source": [
    "# check the ladnscape of the df.\n",
    "\n",
    "jobs.info()\n",
    "jobs.shape"
   ]
  },
  {
   "cell_type": "code",
   "execution_count": 5,
   "metadata": {},
   "outputs": [
    {
     "data": {
      "text/html": [
       "<div>\n",
       "<table border=\"1\" class=\"dataframe\">\n",
       "  <thead>\n",
       "    <tr style=\"text-align: right;\">\n",
       "      <th></th>\n",
       "      <th>Feature</th>\n",
       "      <th>Nullcount</th>\n",
       "      <th>Dtypes</th>\n",
       "    </tr>\n",
       "  </thead>\n",
       "  <tbody>\n",
       "    <tr>\n",
       "      <th>4</th>\n",
       "      <td>job_type</td>\n",
       "      <td>2204</td>\n",
       "      <td>float64</td>\n",
       "    </tr>\n",
       "    <tr>\n",
       "      <th>5</th>\n",
       "      <td>salary</td>\n",
       "      <td>1480</td>\n",
       "      <td>object</td>\n",
       "    </tr>\n",
       "    <tr>\n",
       "      <th>6</th>\n",
       "      <td>body1</td>\n",
       "      <td>39</td>\n",
       "      <td>object</td>\n",
       "    </tr>\n",
       "    <tr>\n",
       "      <th>2</th>\n",
       "      <td>location</td>\n",
       "      <td>1</td>\n",
       "      <td>object</td>\n",
       "    </tr>\n",
       "    <tr>\n",
       "      <th>3</th>\n",
       "      <td>industry</td>\n",
       "      <td>1</td>\n",
       "      <td>object</td>\n",
       "    </tr>\n",
       "    <tr>\n",
       "      <th>7</th>\n",
       "      <td>date</td>\n",
       "      <td>1</td>\n",
       "      <td>object</td>\n",
       "    </tr>\n",
       "    <tr>\n",
       "      <th>0</th>\n",
       "      <td>title</td>\n",
       "      <td>0</td>\n",
       "      <td>object</td>\n",
       "    </tr>\n",
       "    <tr>\n",
       "      <th>1</th>\n",
       "      <td>company</td>\n",
       "      <td>0</td>\n",
       "      <td>object</td>\n",
       "    </tr>\n",
       "  </tbody>\n",
       "</table>\n",
       "</div>"
      ],
      "text/plain": [
       "    Feature  Nullcount   Dtypes\n",
       "4  job_type       2204  float64\n",
       "5    salary       1480   object\n",
       "6     body1         39   object\n",
       "2  location          1   object\n",
       "3  industry          1   object\n",
       "7      date          1   object\n",
       "0     title          0   object\n",
       "1   company          0   object"
      ]
     },
     "execution_count": 5,
     "metadata": {},
     "output_type": "execute_result"
    }
   ],
   "source": [
    "def checknullcount(df):\n",
    "    info = []\n",
    "    columns = ('Feature', 'Nullcount', 'Dtypes')\n",
    "    for col in df.columns:\n",
    "        nullcount = df[col].isnull().sum()\n",
    "        datatype = df[col].dtypes\n",
    "        info.append([col, nullcount, datatype])\n",
    "    return (pd.DataFrame(columns=columns, data=info).sort_values('Nullcount', ascending = False))\n",
    "\n",
    "(checknullcount(jobs))"
   ]
  },
  {
   "cell_type": "markdown",
   "metadata": {},
   "source": [
    "# Temptation\n",
    "Although the temptation is to go straight for the job type and salary for cleaning, a better approach would be to clean up the title and seperate junior and senior roles as this would in turn will clear up the salary somewhat"
   ]
  },
  {
   "cell_type": "code",
   "execution_count": 6,
   "metadata": {
    "scrolled": true
   },
   "outputs": [
    {
     "name": "stdout",
     "output_type": "stream",
     "text": [
      "1157\n"
     ]
    },
    {
     "data": {
      "text/plain": [
       "Business Analyst                                                                   263\n",
       "Senior Business Analyst                                                             97\n",
       "Data Scientist                                                                      68\n",
       "Technical Business Analyst                                                          25\n",
       "Data Scientist - Senior Consultant                                                  24\n",
       "Business Systems Analyst                                                            20\n",
       "Agile Business Analyst                                                              17\n",
       "Digital Business Analyst                                                            17\n",
       "Data Scientist - Big 4 Consulting                                                   16\n",
       "Data Scientist - Product Development                                                16\n",
       "DATA SCIENTIST / MACHINE LEARNING EXPERT                                            15\n",
       "Business Analysts                                                                   15\n",
       "Data Scientist / Analytics Specialist                                               14\n",
       "Business Process Analyst                                                            14\n",
       "2 X Data Scientist                                                                  14\n",
       "DATA SCIENTIST - TOP 100 ASX COMPANY                                                12\n",
       "Research Officer / Data Scientist                                                   12\n",
       "Data Scientist and Lead Data Scientist                                              12\n",
       "Research Officer / Data Scientist .Work Location- ACT                               12\n",
       "Data Engineer / Data Scientist                                                      12\n",
       "Risk Analyst / Data Scientist                                                       12\n",
       "Actuary/Data Scientist – Risk Mitigation                                            12\n",
       "Salesforce Business Analyst                                                          9\n",
       "Junior Business Analyst                                                              8\n",
       ".Net Developer                                                                       8\n",
       "SAP Business Analyst                                                                 7\n",
       "Software Engineer - Big Data                                                         7\n",
       "IT Business Analyst                                                                  7\n",
       "Data Scientist - Software Engineer                                                   7\n",
       ".NET Developer                                                                       7\n",
       "                                                                                  ... \n",
       "Business Analyst - Customer Experience Program                                       1\n",
       "Mid Lvl Business Intelligence Developer/Analyst, OBIEE. BI/DW, Contract, Sydney      1\n",
       "Consultant - Business Analysis                                                       1\n",
       "Senior Business Analyst - Salesforce & Adobe Marketing Cloud                         1\n",
       "Senior AGILE Business Analyst, Digital, Financial Services                           1\n",
       "Dynamics CRM / Dynamics 365 - Lead Functional Consultant                             1\n",
       "Network Support - Banking                                                            1\n",
       "Project Manager / IT Manager                                                         1\n",
       "Developer and Administrator - Salesforce CRM                                         1\n",
       "Green Belt Business Process Analyst                                                  1\n",
       "Technical Business Analyst / Data Analyst                                            1\n",
       "Talent Acquisition Specialist - 12 month fixed term contract                         1\n",
       "State Business Analyst Perth                                                         1\n",
       "Senior Business Analyst (GIS)                                                        1\n",
       "Business / Systems Analyst - Operational Improvement Specialist                      1\n",
       "Business Analyst. Transport Industry.                                                1\n",
       "Senior Angular Mobile Developer                                                      1\n",
       "Senior Java Developer                                                                1\n",
       "Business Analyst - Information Management/ Products                                  1\n",
       "Business & Operations Analyst - Logistics                                            1\n",
       "Business Analyst- Sydney                                                             1\n",
       "Business Analyst Tax                                                                 1\n",
       "PMO Manager                                                                          1\n",
       "New Business Intake Analyst (9mth MTC)                                               1\n",
       "Senior Business Analyst (Functional)                                                 1\n",
       "Senior Security Analyst | Business Critical Platform | Attractive Salary             1\n",
       "Business Analyst - SDLC                                                              1\n",
       "Business Analyst - Office 365 Implementation                                         1\n",
       "MS Dynamics AX System Administrator                                                  1\n",
       "Lean Six Sigma Consultants (S7)                                                      1\n",
       "Name: title, dtype: int64"
      ]
     },
     "execution_count": 6,
     "metadata": {},
     "output_type": "execute_result"
    }
   ],
   "source": [
    "# get a feel for the title column\n",
    "print(jobs['title'].nunique())\n",
    "jobs['title'].value_counts()\n",
    "# wow thats alot of \"similar\" job titles isn't it?\n",
    "# will have to use this to create a variable to copnvert to dummies"
   ]
  },
  {
   "cell_type": "code",
   "execution_count": 7,
   "metadata": {
    "collapsed": true
   },
   "outputs": [],
   "source": [
    "#create variable\n",
    "jobs[\"title_val\"] = 't_alt'"
   ]
  },
  {
   "cell_type": "code",
   "execution_count": 8,
   "metadata": {
    "collapsed": true
   },
   "outputs": [],
   "source": [
    "# convert to lowercase and get rid of nulls\n",
    "jobs[\"title\"] = jobs['title'].str.lower()\n",
    "jobs[\"title\"] = jobs[\"title\"].fillna('NA')"
   ]
  },
  {
   "cell_type": "code",
   "execution_count": 9,
   "metadata": {
    "collapsed": true
   },
   "outputs": [],
   "source": [
    "# map job type string in title using (contains) and place \"t_\" and job in 'titleval' column\n",
    "jobs.ix[jobs[\"title\"].str.contains('data scientist', na=False),\"title_val\"] = 't_ds'\n",
    "jobs.ix[jobs[\"title\"].str.contains('business analyst', na=False),\"title_val\"] = 't_ba'\n",
    "jobs.ix[jobs[\"title\"].str.contains('machine learning', na=False),\"title_val\"] = 't_ml'\n",
    "jobs.ix[jobs[\"title\"].str.contains('big data', na=False),\"title_val\"] = 't_bd'"
   ]
  },
  {
   "cell_type": "code",
   "execution_count": 10,
   "metadata": {},
   "outputs": [
    {
     "data": {
      "text/html": [
       "<div>\n",
       "<table border=\"1\" class=\"dataframe\">\n",
       "  <thead>\n",
       "    <tr style=\"text-align: right;\">\n",
       "      <th></th>\n",
       "      <th>title</th>\n",
       "      <th>title_val</th>\n",
       "    </tr>\n",
       "  </thead>\n",
       "  <tbody>\n",
       "    <tr>\n",
       "      <th>0</th>\n",
       "      <td>data scientist / analytics specialist</td>\n",
       "      <td>t_ds</td>\n",
       "    </tr>\n",
       "    <tr>\n",
       "      <th>1</th>\n",
       "      <td>data scientist - senior consultant</td>\n",
       "      <td>t_ds</td>\n",
       "    </tr>\n",
       "    <tr>\n",
       "      <th>2</th>\n",
       "      <td>research officer / data scientist .work locati...</td>\n",
       "      <td>t_ds</td>\n",
       "    </tr>\n",
       "    <tr>\n",
       "      <th>3</th>\n",
       "      <td>research officer / data scientist</td>\n",
       "      <td>t_ds</td>\n",
       "    </tr>\n",
       "    <tr>\n",
       "      <th>4</th>\n",
       "      <td>2 x data scientist</td>\n",
       "      <td>t_ds</td>\n",
       "    </tr>\n",
       "    <tr>\n",
       "      <th>5</th>\n",
       "      <td>actuary/data scientist – risk mitigation</td>\n",
       "      <td>t_ds</td>\n",
       "    </tr>\n",
       "    <tr>\n",
       "      <th>6</th>\n",
       "      <td>data scientist - product development</td>\n",
       "      <td>t_ds</td>\n",
       "    </tr>\n",
       "    <tr>\n",
       "      <th>7</th>\n",
       "      <td>data scientist - senior consultant</td>\n",
       "      <td>t_ds</td>\n",
       "    </tr>\n",
       "    <tr>\n",
       "      <th>8</th>\n",
       "      <td>data scientist / machine learning expert</td>\n",
       "      <td>t_ml</td>\n",
       "    </tr>\n",
       "    <tr>\n",
       "      <th>9</th>\n",
       "      <td>data scientist and lead data scientist</td>\n",
       "      <td>t_ds</td>\n",
       "    </tr>\n",
       "  </tbody>\n",
       "</table>\n",
       "</div>"
      ],
      "text/plain": [
       "                                               title title_val\n",
       "0              data scientist / analytics specialist      t_ds\n",
       "1                 data scientist - senior consultant      t_ds\n",
       "2  research officer / data scientist .work locati...      t_ds\n",
       "3                  research officer / data scientist      t_ds\n",
       "4                                 2 x data scientist      t_ds\n",
       "5           actuary/data scientist – risk mitigation      t_ds\n",
       "6               data scientist - product development      t_ds\n",
       "7                 data scientist - senior consultant      t_ds\n",
       "8           data scientist / machine learning expert      t_ml\n",
       "9             data scientist and lead data scientist      t_ds"
      ]
     },
     "execution_count": 10,
     "metadata": {},
     "output_type": "execute_result"
    }
   ],
   "source": [
    "jobs[['title','title_val']].head(10)"
   ]
  },
  {
   "cell_type": "code",
   "execution_count": 11,
   "metadata": {
    "collapsed": true
   },
   "outputs": [],
   "source": [
    "# Create dummies\n",
    "\n",
    "title_dummies = pd.get_dummies(jobs['title_val'])"
   ]
  },
  {
   "cell_type": "code",
   "execution_count": 12,
   "metadata": {
    "collapsed": true
   },
   "outputs": [],
   "source": [
    "# concatenate with main df\n",
    "\n",
    "jobs = pd.concat([jobs, title_dummies], axis=1)\n"
   ]
  },
  {
   "cell_type": "code",
   "execution_count": 13,
   "metadata": {},
   "outputs": [
    {
     "data": {
      "text/html": [
       "<div>\n",
       "<table border=\"1\" class=\"dataframe\">\n",
       "  <thead>\n",
       "    <tr style=\"text-align: right;\">\n",
       "      <th></th>\n",
       "      <th>title</th>\n",
       "      <th>company</th>\n",
       "      <th>location</th>\n",
       "      <th>industry</th>\n",
       "      <th>job_type</th>\n",
       "      <th>salary</th>\n",
       "      <th>body1</th>\n",
       "      <th>date</th>\n",
       "      <th>title_val</th>\n",
       "      <th>t_ba</th>\n",
       "      <th>t_bd</th>\n",
       "      <th>t_ds</th>\n",
       "      <th>t_ml</th>\n",
       "    </tr>\n",
       "  </thead>\n",
       "  <tbody>\n",
       "    <tr>\n",
       "      <th>0</th>\n",
       "      <td>data scientist / analytics specialist</td>\n",
       "      <td>Data#3 Limited -</td>\n",
       "      <td>Location: Sydney CBD, Inner West &amp; Eastern Sub...</td>\n",
       "      <td>Information &amp; Communication Technology</td>\n",
       "      <td>NaN</td>\n",
       "      <td>NaN</td>\n",
       "      <td>Are you a talented and skilled IT professional...</td>\n",
       "      <td>13 May 2017</td>\n",
       "      <td>t_ds</td>\n",
       "      <td>0</td>\n",
       "      <td>0</td>\n",
       "      <td>1</td>\n",
       "      <td>0</td>\n",
       "    </tr>\n",
       "    <tr>\n",
       "      <th>1</th>\n",
       "      <td>data scientist - senior consultant</td>\n",
       "      <td>Adaps IT -</td>\n",
       "      <td>Location: Melbourne CBD &amp; Inner Suburbs</td>\n",
       "      <td>Information &amp; Communication Technology</td>\n",
       "      <td>NaN</td>\n",
       "      <td>NaN</td>\n",
       "      <td>Role: Data Scientist - Senior Consultant\\nExce...</td>\n",
       "      <td>12 May 2017</td>\n",
       "      <td>t_ds</td>\n",
       "      <td>0</td>\n",
       "      <td>0</td>\n",
       "      <td>1</td>\n",
       "      <td>0</td>\n",
       "    </tr>\n",
       "  </tbody>\n",
       "</table>\n",
       "</div>"
      ],
      "text/plain": [
       "                                   title           company  \\\n",
       "0  data scientist / analytics specialist  Data#3 Limited -   \n",
       "1     data scientist - senior consultant        Adaps IT -   \n",
       "\n",
       "                                            location  \\\n",
       "0  Location: Sydney CBD, Inner West & Eastern Sub...   \n",
       "1            Location: Melbourne CBD & Inner Suburbs   \n",
       "\n",
       "                                 industry  job_type salary  \\\n",
       "0  Information & Communication Technology       NaN    NaN   \n",
       "1  Information & Communication Technology       NaN    NaN   \n",
       "\n",
       "                                               body1         date title_val  \\\n",
       "0  Are you a talented and skilled IT professional...  13 May 2017      t_ds   \n",
       "1  Role: Data Scientist - Senior Consultant\\nExce...  12 May 2017      t_ds   \n",
       "\n",
       "   t_ba  t_bd  t_ds  t_ml  \n",
       "0     0     0     1     0  \n",
       "1     0     0     1     0  "
      ]
     },
     "execution_count": 13,
     "metadata": {},
     "output_type": "execute_result"
    }
   ],
   "source": [
    "# Drop MiscFeature column and one of the MiscFeature categories ('other'):\n",
    "\n",
    "jobs = jobs.drop('t_alt', 1)\n",
    "jobs.head(2)"
   ]
  },
  {
   "cell_type": "code",
   "execution_count": 14,
   "metadata": {
    "collapsed": true
   },
   "outputs": [],
   "source": [
    "# Create variable with default value of 'ranking':\n",
    "jobs[\"ranking\"] = 'r_alt'\n",
    "\n",
    "jobs[\"title\"] = jobs['title'].str.lower()\n",
    "''\n",
    "# map job type string in title using (contains) and place \"3_\" and job in 'titleval' column\n",
    "jobs.ix[jobs[\"title\"].str.contains('junior'),\"ranking\"] = 'r_junior'\n",
    "jobs.ix[jobs[\"title\"].str.contains('senior'),\"ranking\"] = 'r_senior'\n",
    "jobs.ix[jobs[\"title\"].str.contains('manager'),\"ranking\"] = 'r_manager'\n",
    "jobs.ix[jobs[\"title\"].str.contains('specialist'),\"ranking\"] = 'r_specialist'"
   ]
  },
  {
   "cell_type": "code",
   "execution_count": 15,
   "metadata": {
    "collapsed": true
   },
   "outputs": [],
   "source": [
    " # Create dummies for job ranking\n",
    "\n",
    "ranking_dummies = pd.get_dummies(jobs['ranking'])\n",
    "\n",
    "# concat dummies into df\n",
    "\n",
    "jobs = pd.concat([jobs, ranking_dummies], axis=1)"
   ]
  },
  {
   "cell_type": "code",
   "execution_count": 16,
   "metadata": {},
   "outputs": [
    {
     "data": {
      "text/html": [
       "<div>\n",
       "<table border=\"1\" class=\"dataframe\">\n",
       "  <thead>\n",
       "    <tr style=\"text-align: right;\">\n",
       "      <th></th>\n",
       "      <th>title</th>\n",
       "      <th>company</th>\n",
       "      <th>location</th>\n",
       "      <th>industry</th>\n",
       "      <th>job_type</th>\n",
       "      <th>salary</th>\n",
       "      <th>body1</th>\n",
       "      <th>date</th>\n",
       "      <th>title_val</th>\n",
       "      <th>t_ba</th>\n",
       "      <th>t_bd</th>\n",
       "      <th>t_ds</th>\n",
       "      <th>t_ml</th>\n",
       "      <th>ranking</th>\n",
       "      <th>r_junior</th>\n",
       "      <th>r_manager</th>\n",
       "      <th>r_senior</th>\n",
       "      <th>r_specialist</th>\n",
       "    </tr>\n",
       "  </thead>\n",
       "  <tbody>\n",
       "    <tr>\n",
       "      <th>0</th>\n",
       "      <td>data scientist / analytics specialist</td>\n",
       "      <td>Data#3 Limited -</td>\n",
       "      <td>Location: Sydney CBD, Inner West &amp; Eastern Sub...</td>\n",
       "      <td>Information &amp; Communication Technology</td>\n",
       "      <td>NaN</td>\n",
       "      <td>NaN</td>\n",
       "      <td>Are you a talented and skilled IT professional...</td>\n",
       "      <td>13 May 2017</td>\n",
       "      <td>t_ds</td>\n",
       "      <td>0</td>\n",
       "      <td>0</td>\n",
       "      <td>1</td>\n",
       "      <td>0</td>\n",
       "      <td>r_specialist</td>\n",
       "      <td>0</td>\n",
       "      <td>0</td>\n",
       "      <td>0</td>\n",
       "      <td>1</td>\n",
       "    </tr>\n",
       "    <tr>\n",
       "      <th>1</th>\n",
       "      <td>data scientist - senior consultant</td>\n",
       "      <td>Adaps IT -</td>\n",
       "      <td>Location: Melbourne CBD &amp; Inner Suburbs</td>\n",
       "      <td>Information &amp; Communication Technology</td>\n",
       "      <td>NaN</td>\n",
       "      <td>NaN</td>\n",
       "      <td>Role: Data Scientist - Senior Consultant\\nExce...</td>\n",
       "      <td>12 May 2017</td>\n",
       "      <td>t_ds</td>\n",
       "      <td>0</td>\n",
       "      <td>0</td>\n",
       "      <td>1</td>\n",
       "      <td>0</td>\n",
       "      <td>r_senior</td>\n",
       "      <td>0</td>\n",
       "      <td>0</td>\n",
       "      <td>1</td>\n",
       "      <td>0</td>\n",
       "    </tr>\n",
       "  </tbody>\n",
       "</table>\n",
       "</div>"
      ],
      "text/plain": [
       "                                   title           company  \\\n",
       "0  data scientist / analytics specialist  Data#3 Limited -   \n",
       "1     data scientist - senior consultant        Adaps IT -   \n",
       "\n",
       "                                            location  \\\n",
       "0  Location: Sydney CBD, Inner West & Eastern Sub...   \n",
       "1            Location: Melbourne CBD & Inner Suburbs   \n",
       "\n",
       "                                 industry  job_type salary  \\\n",
       "0  Information & Communication Technology       NaN    NaN   \n",
       "1  Information & Communication Technology       NaN    NaN   \n",
       "\n",
       "                                               body1         date title_val  \\\n",
       "0  Are you a talented and skilled IT professional...  13 May 2017      t_ds   \n",
       "1  Role: Data Scientist - Senior Consultant\\nExce...  12 May 2017      t_ds   \n",
       "\n",
       "   t_ba  t_bd  t_ds  t_ml       ranking  r_junior  r_manager  r_senior  \\\n",
       "0     0     0     1     0  r_specialist         0          0         0   \n",
       "1     0     0     1     0      r_senior         0          0         1   \n",
       "\n",
       "   r_specialist  \n",
       "0             1  \n",
       "1             0  "
      ]
     },
     "execution_count": 16,
     "metadata": {},
     "output_type": "execute_result"
    }
   ],
   "source": [
    "jobs = jobs.drop('r_alt', 1)\n",
    "jobs.head(2)"
   ]
  },
  {
   "cell_type": "markdown",
   "metadata": {},
   "source": [
    "# Preparing the Salary column\n",
    "Cleaning the salary column and converting it to numeric. \n",
    "Obvious assupmtions are as follows:  \n",
    "1. All salaries to be per annum - otherwise to annualised\n",
    "2. 'k' or 'K' is $000's\n",
    "Limitations of this study are as follows:\n",
    "1. 'other' negotiable peripherals in the the salary package\n",
    "2. the final salary."
   ]
  },
  {
   "cell_type": "code",
   "execution_count": 17,
   "metadata": {},
   "outputs": [
    {
     "data": {
      "text/plain": [
       "array([nan, 'Compe', '$800 - 1100 per day', 'Competitive and negotiable',\n",
       "       '$700 - 900 per day', 'Start up culture', '$100,000 - $130,000',\n",
       "       'Up to $120,000 plus super', '$140,000 - $180,000 + Bonus',\n",
       "       '$140-150K base salary', 'up to $145,000 inc Super',\n",
       "       '$100,000 - $149,999', '$120,000 to $130,000', '$90,000 - $119,999',\n",
       "       '$93 934 - $100 624 p.a.', '$550 - $600 a day + super',\n",
       "       '$700 p.d. + GST', '$$$ Negotiable and attractive daily rate',\n",
       "       'Great hourly rate on offer', '$750-780+Super', 'competitive',\n",
       "       'superannuation', '$4,035.80 to $4,331.20 per fortnight.',\n",
       "       'To $150K', '$640 per day + Super', '$70k - $80k p.a. + Super',\n",
       "       '600-750', '$80 - $84.99 per hour', '$100 - $100+ per hour',\n",
       "       '$100k - $140k p.a. + Super', '$600-750 daily',\n",
       "       '$700 - $800 per day super inclusive', '$120K - $130K p.a. + super',\n",
       "       'Competitive Salary + On-Site Gym', '$100000.00 - $120000.00 p.a.',\n",
       "       'Up to $55ph + S', '$748.90 inc. super / day', '$120k p.a.',\n",
       "       '$120K to $140K + super + bonus', '750-850', '$750 - $850 per day',\n",
       "       'Market Rates', '102, 838 - 113, 324 (plus superannuation)',\n",
       "       'Attractive Daily rates!', '$750 - $900 p.d. + Super',\n",
       "       'plus superannuation', 'Base + super + annual bonus plan',\n",
       "       '$80 - 90 per hour', 'inclusive of superannuation',\n",
       "       '$102.50 phr\\r\\n\\r\\nAll agent client fees disclosed',\n",
       "       'upto $102.50phr\\r\\n\\r\\nAll agent client fees disclosed',\n",
       "       '$500 - 700 per day', 'Amazing Hourly Rates $$',\n",
       "       'Rewarding Hourly Rates $$', '$80k - $85k p.a.',\n",
       "       'Competitive Daily Rate', '$111,000 per annum + super',\n",
       "       '$650 - $750 p.d. + Super', '$80 - $100+ per hour',\n",
       "       'Highly attractive daily rate', '$60k - $70k p.a. + Super',\n",
       "       'Career progression opportunities',\n",
       "       '$100k+ super to $130k+ super - based on experience',\n",
       "       'Competitive $$',\n",
       "       'Lvl 4, SOA $79,688-$89,947 pro rata pa + 9.5%super',\n",
       "       '$700+ per day', 'Salary commensurate to experience', '$$$',\n",
       "       '$100,000 - $119,999', '$600 - $700 p.d.', '$135k package',\n",
       "       '$130k - $150k p.a. + Super',\n",
       "       'PRA - work with a recruiter who works for you!',\n",
       "       'Great work environment + Super + Bonus',\n",
       "       '$120k - $140k p.a. + competitive', 'Negotiable daily rate',\n",
       "       '$78,773 - $89,375 per annum + super', '$130,000 - $189,999',\n",
       "       'Attractive hourly rate', 'Daily rates', '$75,000 - $95,000',\n",
       "       'Mentone based location', 'Competitive',\n",
       "       'Negotiable depending on experience', '$60,000 - $74,999',\n",
       "       '$40-45 + super hourly', 'Competitive Rates & Flexi Culture',\n",
       "       '$400 - $450 per day plus Superannuation',\n",
       "       'Up to $800/d inc super - Close to PT', '$110k - $150k p.a.',\n",
       "       '$750 - $800/ day', '$85 - $94.99 per hour',\n",
       "       '$80,000 - $90,000 + Super', '$650 - $750', '$600 - $700',\n",
       "       'hourly rate on offer', '$80 - $87 per hour',\n",
       "       '6 month contract - leading organisation in BIM', '$70-$80k +Super',\n",
       "       '$650 per day', '$104k', 'Attractive package', '$75k Annual',\n",
       "       '$850 - $950 p.a.', '$95 - 110 per hour',\n",
       "       '$105,000 - $120,000 + super', '$130,000 + Super',\n",
       "       'GREAT RATES ON OFFER', 'Superannuation', '$750 - $870 p.d.',\n",
       "       '$90k - $150k Base depending on exp & skill-set.',\n",
       "       '$100 - $108 p.h.', 'Attractive rate',\n",
       "       '$100k - $110k p.a. + Super + Bonus', 'Daily Rate', '$90K package',\n",
       "       'Up to $900 daily', '$ Based on Experience',\n",
       "       '$825 - $850 per day including super',\n",
       "       'Hourly Rate Dependant on Experience',\n",
       "       'Competitive salary + Super + Shares',\n",
       "       '$102 phr\\r\\n\\r\\n- All agent client fees disclosed',\n",
       "       '$120,000 - $149,999', 'Competitive Salary',\n",
       "       '$110,000 package, including superannuation', 'Competitive Package',\n",
       "       '$45.00 - $60.00 per hour + Superannuation', '75 per hour',\n",
       "       '$110,000 to $120,000 package', '$95 - $100+ per hour',\n",
       "       '$120-130+Super', '$130k package / $600 per day',\n",
       "       '$700 - $730 + Super p/d', '$704.85 per day inc super', '800-1000',\n",
       "       '$70,000 - $84,999', '$90k - $110k p.a. + Super',\n",
       "       '$90k - $105k + Super', 'Career growth | Jr to mid level BA',\n",
       "       '$95k - $100k p.a.', '$74,891 - $80,835 pa (plus 9.5% super)',\n",
       "       '$100,000 - $109,999 + super',\n",
       "       '$80k - $90k per annum + Superannuation', 'Super',\n",
       "       '$450-500 mid / jnr$550-600 mid / snr', '$500 - $550 p.a.', 'GST',\n",
       "       'Circa $875 per day', '$150K Package + Bonus', '$75k - $95k p.a.',\n",
       "       'Competitive package', '$130k Package',\n",
       "       '$500 - $600 p.d. + competitive', 'great day rate',\n",
       "       '+ Super + 10% bonus', 'Excellent salary sacrifice benefits.',\n",
       "       '$80k - $120k p.a.', 'Contact Terry Chandramun', '$700 - $750 pd',\n",
       "       '$100k - $110k p.a. + Super', '$650 - $750 p.d.', '110-120',\n",
       "       'Daily rates.', '$75 - $90 p.h.', 'Negotiable based on experience',\n",
       "       '$150,000 - $169,999', '$750.00 p/d 3-6 month contract',\n",
       "       '$90,000-$100,000 (+Super)', '700-900', '$130,000 - $149,999',\n",
       "       '$55 - $60 p.h. + superannuation. Macquarie Park &',\n",
       "       '$55 - $65 p.h. + superannuation. Macquarie Park &',\n",
       "       '** Excellent benefits', '$700 - $850 p.d.', '110,000-130,000',\n",
       "       '$75 - $100+ per hour', '$90k - $120k p.a. + Super',\n",
       "       '$85k - $95k + Super + Bonus', 'Up to $110,000.00 pck',\n",
       "       'Competitive Salary Package', 'Up to $800 inc super',\n",
       "       '$80k - $100k', '$130,000 - $150,000',\n",
       "       'Competitive salary + excellent employee benefits',\n",
       "       '$30 p.h. + super', 'Base + Superannuation', 'Burwood Location',\n",
       "       '$600-800 daily', '$100000.00 - $110000.00 p.a.',\n",
       "       'Competitive base and lucrative monthly commission', '$90 p.h.',\n",
       "       '$550 - $675 p.d. + benefits', '$600 per day', '$45,000 - $49,999',\n",
       "       '$700-750/day including super',\n",
       "       '$95-105K+super. Excellent project team!',\n",
       "       '$70k - $85k p.a. + Competitive Salary', '$500 - $700 p.d.',\n",
       "       'Fantastic Hourly Rates $$', '$800 - $900 p.a.',\n",
       "       '$100k - $105k p.a. + Super', '$500 - $600 p.d.',\n",
       "       '$100k - $130k p.a. + Super', '$115K plus',\n",
       "       '$60 - $80 p.h. + Super', '$650 - $675 per day',\n",
       "       '$800 - $850 per day', '$60,000 - $65,000k + superannuation',\n",
       "       'Central Canberra', '$120,000 + ASX Listed | Homebush Location',\n",
       "       'up to $600 per day (package)', '$120,000  -  $129,999',\n",
       "       'Competitive remuneration', '$110000.00 - $120k p.a.',\n",
       "       'attractive base + 12% Super + Leave Loading', '$90 - $120 p.h.',\n",
       "       '$800 - $850 p.d. + significant chance of extension',\n",
       "       '$102,334 to $115,990 (HEW8) pa', '$750 - $800 + super per day',\n",
       "       'Attractive salary on offer', '$650 - $750 p.d. + super',\n",
       "       '$690 p.d. + superannuation', 'Circa $850 per day',\n",
       "       '$105000.00 - $110000.00 p.a.',\n",
       "       '$85,000 - $95,000 + Superannuation', '$90k - $100k p.a.',\n",
       "       '$140K - $180K + Super', '$450 - $530 p.d.', '$65 - $85 p.d.',\n",
       "       '$800 - $880 per day', '$90000.00 p.a.',\n",
       "       '$100,000 - 105,000 package', '$75k - $95k p.a. inc Super',\n",
       "       '$65.00 - $70 p.h. + superannuation',\n",
       "       '$800-900/day + Superannuation',\n",
       "       '$100,000 + Study Support + Global Giant', '$120,000  -  $149,999',\n",
       "       'Attractive salary package', 'Excellent Rates and Flexible Hours',\n",
       "       'Attractive Daily Rate', '$65.00 - $75.00 p.h. + Super',\n",
       "       '$750-$850 daily rate', 'package', '$70 - $105 p.h.+ GST/ Super',\n",
       "       '$70 - $105 p.h. + GST/ Super', '$90,000 - $100,000 plus super',\n",
       "       '$70,000 - $79,999', '65 -70 p/h + super', '140000',\n",
       "       '$110k - $115k p.a. + including super',\n",
       "       'Salary package up to $97,095 ($79,384 - $87,591)',\n",
       "       '$32 p.m. + 9.5% Super', '$NEG - All agent client fees disclosed',\n",
       "       '$500 - $510 p.d.', '$95 p.h.', '$75,000 + 9.5% Superannuation',\n",
       "       '$28 - $30ph plus super', '$80-120K depending on experience',\n",
       "       'Up to $850 + super', 'On Experience',\n",
       "       'Base: $81,199 - $86,620 p.a',\n",
       "       'attractive superannuation and benefits package', '70k+Super',\n",
       "       '$120000 - 130000.00 per annum', '$750.00 per day',\n",
       "       '$120,000 - $140,000+super', '$120,000 - $130,000', 'ATTRACTIVE',\n",
       "       'Competitive salary + staff discount',\n",
       "       '$800.00 p/d 12 Month Contract', '$70+Super',\n",
       "       '$111,484 - $149,188 plus super', 'above award', '$35 - $40 p.a.',\n",
       "       '$300 - $370 p.d.', '$600 - $800 p.d.', '$570 per day',\n",
       "       'Competitive rate', '$90,000 - $109,999', 'Circa $130k package',\n",
       "       'Rates are negotiable.', '$120k - $130k p.a. + Bonus',\n",
       "       '$32 - $35 p.m. + 9.5% Super', '$140K - $160K plus bonus',\n",
       "       '$550/day', 'Competitive daily rates on offer',\n",
       "       '90-110K FTC. Excellent environment and perks.',\n",
       "       '$100k - $120k p.a. + Super', 'Salary up to $100k + Super + Car',\n",
       "       '$100k - $120k per annum + Super & Benefits',\n",
       "       'Negotiable Based on Experience', '125,000', '$600 - 720 per day',\n",
       "       '$140K including Super (experience dependent)',\n",
       "       'Potentially 3 years', '$100k-$115k + Super',\n",
       "       '$110k - $125k p.a. + super',\n",
       "       '$88,849 - $96,049 plus 9.5% superannuation', '130K',\n",
       "       '700 - 800 P/D DOE', 'Generous Salary Package + Benefits',\n",
       "       '$70,000 - $90,000', '$100000.00 - $110000.00 p.a. + super',\n",
       "       'Competitive Hourly Rates!', '$85k - $95k p.a. + Super',\n",
       "       '$120,000 - $159,999',\n",
       "       '$NEG\\r\\n\\r\\nAll agent client fees disclosed', '$700-780+Super',\n",
       "       '$95,000 + super', 'Negotiable', '$65 - $66 p.a. + Super',\n",
       "       '$60,000 - $69,999', 'Competitive daily rates', '$540 per day',\n",
       "       '$110k - $115000.00 p.a. + superannuation', '$700-$800/day',\n",
       "       '$100,000  -  $120,000', 'competitive rates', '$0  -  $29,999',\n",
       "       '$60 - $62 p.h.', 'AUD 700 - 750 / day', '$550 - 700 per day',\n",
       "       '$110000.00 - 130000.00 per annum', '$120k p.a. + Super',\n",
       "       '70-80K + Super', 'super', '$700 p.d. + Super/GST', '$0.00 p.a.',\n",
       "       '$great package, benefits & flexibility', '$750 - $800 p.d.',\n",
       "       'Great Rates and 9-5HRs', '$600 plus super',\n",
       "       '$100,000  -  $119,999', '$80k - $90k p.a.',\n",
       "       'competitive daily rate + super (variant on exp)',\n",
       "       '$700-$800 per day', '$45 - $50 p.d. + super',\n",
       "       'Transport Service Grade 7 ($94,187 - $105,490).',\n",
       "       '$45k - $70k based on experience',\n",
       "       '$110,000 to $120,000 package + bonus', '$700 - $800 per day',\n",
       "       '$100,000 - $150,000 dependent on experience',\n",
       "       '$90k - $100k p.a. + Attractive Package + Superannu', '$130,000',\n",
       "       '$120,000', 'Up to $100,000 package',\n",
       "       '$130,000 - $160,000 incl super',\n",
       "       'End User Company - Great Package, Bonuses + Agile',\n",
       "       'From $70,000 base + super', '$ Neg.', 'Competitive Day Rate',\n",
       "       'C120 K neg on exp', '$50,000 - $59,999',\n",
       "       '$85,000 - $100,000 package negotiable',\n",
       "       '$110k - $120k p.a. + super',\n",
       "       'Competitive salary + bonus + benefits',\n",
       "       '$320-$400 per day package',\n",
       "       'Great Package, Bonuses – Onsite Parking + End user',\n",
       "       '$85k - $90k p.a. + Fantastic Travel Opportunities',\n",
       "       'Competitive remuneration + bonus + benefits',\n",
       "       '$110,000 - $129,999', 'Attractive Daily Rate!', '110k - 120k +',\n",
       "       'Up to $80,000 + Super + Comms',\n",
       "       '$130-150K+super. Multiple transformation project.',\n",
       "       '$600.00 - $620.00 p.d.', 'up to $100K Package',\n",
       "       '$650 - $750 per day', '$130000.00 - $140k p.a. + Super', '$70000',\n",
       "       '$70k - $80k p.a.', '$120,000 + super + bonus', 'Melbourne',\n",
       "       '$ competitive', 'up to 100K package (on a 6 month pro rata basis)',\n",
       "       '$700 - 800 per annum',\n",
       "       '$100,000 - $120,000 plus superannuation + bonus',\n",
       "       '$90k - $130k p.a.', '$85k - $90k p.a. + Super',\n",
       "       'Attractive salary, perks and career-path', '$60,000 - $79,999',\n",
       "       '$120,000 - $129,999', '$110,000 - $149,999',\n",
       "       '$150000.00 - 170000.00 per annum', '$80k - $85k p.a. + Super',\n",
       "       '$80K - $95K + Bonus', '$110k - $120k p.a. + + Super',\n",
       "       '$90 - $100+ per hour', '$80k - $110000.00 p.a.',\n",
       "       'Canberra Location', 'Hourly Rate Negotiable',\n",
       "       'Competitive day rate', '$140k - $160k p.a.',\n",
       "       'Attractive Salary and Package on offer', '$180,000 - $200,000+',\n",
       "       '$75.00 - 85.00 per hour', 'circa $700 - $800 per day (inc. super)',\n",
       "       'Top-End Salary & Huge Training Budget', '$75 - $82 p.h.',\n",
       "       '$650 - $700 per day', '$70k - $120k p.a.',\n",
       "       '$92.50phr\\r\\n\\r\\nAll agent client fees disclosed',\n",
       "       '$92.50 phr\\r\\n\\r\\nAll agent client fees disclosed',\n",
       "       'Up to $700/day incl. sup. - Close to PT',\n",
       "       '$140000 - 160000 per annum', '$100,000 package',\n",
       "       '$80,000 - $100,000 plus superannuation', 'Salary to $110,000',\n",
       "       '$170k - $195k p.a. + Super + Bonus', '$50,000 - $54,999',\n",
       "       '$600 - $900 Daily Rate', '$150k - $250k p.a.',\n",
       "       '$120k - $200k p.a.', '$competitive', 'Attractive Rate',\n",
       "       'Level 6/7 $77,122 to $94,137 p.a. plus 17% super!',\n",
       "       '$70k - $90k (Based on experience)',\n",
       "       'To be discussed upon application',\n",
       "       '$480 - $680 per day (incl. super)', 'Excellent Hourly Rates',\n",
       "       '$955 p/d+', '$700 - $900 p.d.',\n",
       "       '$90k - $120k p.a. + Superannuation', '$60.00',\n",
       "       '$120k - $150k p.a.', '$955 p/d',\n",
       "       'Excellent Salary Depending on Experience', '$80 - 90K + Super',\n",
       "       '$99 - $100 p.h.', '$350 - $380 p.d. + super',\n",
       "       'Open to negotiation', '0', '$90-120k + Super',\n",
       "       'ABSOLUTE TOP-END RATES', '$450 p.d. + Super',\n",
       "       '$600 - $800 p.d. + Super',\n",
       "       'Competitive salary package + Employee Benefits',\n",
       "       '$600 - $850 Per Day (Including Super)', 'OTE $90K - $150K +++',\n",
       "       '$100k - $120k p.a. + super+bonus',\n",
       "       'Healthcare, Share Scheme, Sports and Social groups',\n",
       "       '90k-120k (Based on experience)', '$120k - $130k p.a. + Super',\n",
       "       '$80,000 - $89,999', 'Great daily rates!', '120,000',\n",
       "       '650-740 per day', '$25,849 per annum for 3 years',\n",
       "       '$900 - $1100 per day', '$50 - $69.99 per hour',\n",
       "       '$94,637 - $103,646', '$130000.00 - $150000.00 p.a.', '$90,00',\n",
       "       'Fantastic salary', '$50,000  -  $70,000', '$170000',\n",
       "       '$140k - $160k p.a. + 150k comms 300k package',\n",
       "       'Lucrative Daily Rates, LT Contract, MELB CBD',\n",
       "       'Excellent Salary Package | Career Investment |',\n",
       "       'Great Location + Above average Rems + Bonus',\n",
       "       'Excellent Salary plus Career Investment',\n",
       "       'Above market rates are assured huge bonus & shares',\n",
       "       '$130k - $160k p.a. + Negotiable', '$60 - $80k based on experience',\n",
       "       'Huge 3 Year Program, Long Contract, Snr Level Rate',\n",
       "       'Attractive salary package + great team culture!',\n",
       "       '$95,000 - $119,999', '$130,000 - $139,999', '$850 - 1100 per day',\n",
       "       '$100k - $180k p.a.', '$110,000 - $125,000 plus Super',\n",
       "       '$100-120K base + super', '$220,000', '$150k - $170k p.a.',\n",
       "       '$80.00 - 120.00 per day', 'Contract Day Rate'], dtype=object)"
      ]
     },
     "execution_count": 17,
     "metadata": {},
     "output_type": "execute_result"
    }
   ],
   "source": [
    "jobs.salary.unique()"
   ]
  },
  {
   "cell_type": "code",
   "execution_count": 18,
   "metadata": {
    "collapsed": true
   },
   "outputs": [],
   "source": [
    "# sorry I asked.... lets just try some commmon threads, will have to do my best to commopnalise - is that a word?  anyway \n",
    "# you know what I mean.\n",
    "jobs[\"salary\"] = jobs[\"salary\"].str.replace(\"$\", \"\")\n",
    "jobs[\"salary\"] = jobs[\"salary\"].str.replace(\"/\", \"\")\n",
    "jobs[\"salary\"] = jobs[\"salary\"].str.replace(\"+\", \"\")\n",
    "jobs[\"salary\"] = jobs[\"salary\"].str.replace(\"k\", \"000\")\n",
    "jobs[\"salary\"] = jobs[\"salary\"].str.replace(\"K\", \"000\")\n",
    "jobs[\"salary\"] = jobs[\"salary\"].str.replace(\"p.a\", \"year\")\n",
    "jobs[\"salary\"] = jobs[\"salary\"].str.replace(\"p.d\", \"day\")\n",
    "jobs[\"salary\"] = jobs[\"salary\"].str.replace(\"p.h\", \"hour\")\n",
    "jobs[\"salary\"] = jobs[\"salary\"].str.replace(\"p.m\", \"month\")\n",
    "jobs[\"salary\"] = jobs[\"salary\"].str.replace(\"\\n\", \"\")\n",
    "jobs[\"salary\"] = jobs[\"salary\"].str.replace(\",\", \"\")\n",
    "jobs[\"salary\"] = jobs[\"salary\"].str.replace(\"to\", \"-\")"
   ]
  },
  {
   "cell_type": "code",
   "execution_count": 19,
   "metadata": {
    "collapsed": true
   },
   "outputs": [],
   "source": [
    "jobs[\"salary\"].head()\n",
    "\n",
    "# now to check the time and convert, to do this i will Create empty sal_annual column\n",
    "\n",
    "jobs[\"sal_annual\"] = np.nan"
   ]
  },
  {
   "cell_type": "code",
   "execution_count": 20,
   "metadata": {},
   "outputs": [
    {
     "data": {
      "text/html": [
       "<div>\n",
       "<table border=\"1\" class=\"dataframe\">\n",
       "  <thead>\n",
       "    <tr style=\"text-align: right;\">\n",
       "      <th></th>\n",
       "      <th>title</th>\n",
       "      <th>company</th>\n",
       "      <th>location</th>\n",
       "      <th>industry</th>\n",
       "      <th>job_type</th>\n",
       "      <th>salary</th>\n",
       "      <th>body1</th>\n",
       "      <th>date</th>\n",
       "      <th>title_val</th>\n",
       "      <th>t_ba</th>\n",
       "      <th>t_bd</th>\n",
       "      <th>t_ds</th>\n",
       "      <th>t_ml</th>\n",
       "      <th>ranking</th>\n",
       "      <th>r_junior</th>\n",
       "      <th>r_manager</th>\n",
       "      <th>r_senior</th>\n",
       "      <th>r_specialist</th>\n",
       "      <th>sal_annual</th>\n",
       "    </tr>\n",
       "  </thead>\n",
       "  <tbody>\n",
       "    <tr>\n",
       "      <th>0</th>\n",
       "      <td>data scientist / analytics specialist</td>\n",
       "      <td>Data#3 Limited -</td>\n",
       "      <td>Location: Sydney CBD, Inner West &amp; Eastern Sub...</td>\n",
       "      <td>Information &amp; Communication Technology</td>\n",
       "      <td>NaN</td>\n",
       "      <td>NA</td>\n",
       "      <td>Are you a talented and skilled IT professional...</td>\n",
       "      <td>13 May 2017</td>\n",
       "      <td>t_ds</td>\n",
       "      <td>0</td>\n",
       "      <td>0</td>\n",
       "      <td>1</td>\n",
       "      <td>0</td>\n",
       "      <td>r_specialist</td>\n",
       "      <td>0</td>\n",
       "      <td>0</td>\n",
       "      <td>0</td>\n",
       "      <td>1</td>\n",
       "      <td>NaN</td>\n",
       "    </tr>\n",
       "    <tr>\n",
       "      <th>1</th>\n",
       "      <td>data scientist - senior consultant</td>\n",
       "      <td>Adaps IT -</td>\n",
       "      <td>Location: Melbourne CBD &amp; Inner Suburbs</td>\n",
       "      <td>Information &amp; Communication Technology</td>\n",
       "      <td>NaN</td>\n",
       "      <td>NA</td>\n",
       "      <td>Role: Data Scientist - Senior Consultant\\nExce...</td>\n",
       "      <td>12 May 2017</td>\n",
       "      <td>t_ds</td>\n",
       "      <td>0</td>\n",
       "      <td>0</td>\n",
       "      <td>1</td>\n",
       "      <td>0</td>\n",
       "      <td>r_senior</td>\n",
       "      <td>0</td>\n",
       "      <td>0</td>\n",
       "      <td>1</td>\n",
       "      <td>0</td>\n",
       "      <td>NaN</td>\n",
       "    </tr>\n",
       "  </tbody>\n",
       "</table>\n",
       "</div>"
      ],
      "text/plain": [
       "                                   title           company  \\\n",
       "0  data scientist / analytics specialist  Data#3 Limited -   \n",
       "1     data scientist - senior consultant        Adaps IT -   \n",
       "\n",
       "                                            location  \\\n",
       "0  Location: Sydney CBD, Inner West & Eastern Sub...   \n",
       "1            Location: Melbourne CBD & Inner Suburbs   \n",
       "\n",
       "                                 industry  job_type salary  \\\n",
       "0  Information & Communication Technology       NaN     NA   \n",
       "1  Information & Communication Technology       NaN     NA   \n",
       "\n",
       "                                               body1         date title_val  \\\n",
       "0  Are you a talented and skilled IT professional...  13 May 2017      t_ds   \n",
       "1  Role: Data Scientist - Senior Consultant\\nExce...  12 May 2017      t_ds   \n",
       "\n",
       "   t_ba  t_bd  t_ds  t_ml       ranking  r_junior  r_manager  r_senior  \\\n",
       "0     0     0     1     0  r_specialist         0          0         0   \n",
       "1     0     0     1     0      r_senior         0          0         1   \n",
       "\n",
       "   r_specialist sal_annual  \n",
       "0             1        NaN  \n",
       "1             0        NaN  "
      ]
     },
     "execution_count": 20,
     "metadata": {},
     "output_type": "execute_result"
    }
   ],
   "source": [
    "# If the salary contains information on time period, save that time period string in the 'salary_period' column.\n",
    "# Idea of creating a payment freuqency column sourced from Michael Salmon on medium.com blog\n",
    "\n",
    "jobs[\"salary\"] = jobs[\"salary\"].fillna('NA')\n",
    "jobs.ix[jobs[\"salary\"].str.contains(\"year\"),\"sal_annual\"] = \"year\"\n",
    "jobs.ix[jobs[\"salary\"].str.contains(\"month\"),\"sal_annual\"] = \"month\"\n",
    "jobs.ix[jobs[\"salary\"].str.contains(\"week\"),\"sal_annual\"] = \"week\"\n",
    "jobs.ix[jobs[\"salary\"].str.contains(\"day\"),\"sal_annual\"] = \"day\"\n",
    "jobs.ix[jobs[\"salary\"].str.contains(\"hour\"),\"sal_annual\"] = \"hour\"\n",
    "jobs.head(2)\n"
   ]
  },
  {
   "cell_type": "code",
   "execution_count": 21,
   "metadata": {},
   "outputs": [
    {
     "data": {
      "text/plain": [
       "0    []\n",
       "1    []\n",
       "2    []\n",
       "3    []\n",
       "4    []\n",
       "5    []\n",
       "Name: sal_range, dtype: object"
      ]
     },
     "execution_count": 21,
     "metadata": {},
     "output_type": "execute_result"
    }
   ],
   "source": [
    "# Find all numeric features for each row in the salary column and place in a list\n",
    "jobs[\"sal_range\"] = [re.findall('\\d+', s) for s in jobs[\"salary\"]]\n",
    "jobs[\"sal_range\"][0:6]\n"
   ]
  },
  {
   "cell_type": "code",
   "execution_count": 22,
   "metadata": {},
   "outputs": [
    {
     "name": "stdout",
     "output_type": "stream",
     "text": [
      "2204\n"
     ]
    }
   ],
   "source": [
    "# Take the max\n",
    "sal_max = []\n",
    "for salary in jobs[\"sal_range\"]:\n",
    "    if len(salary) > 0:\n",
    "        sal_max.append(float(max(salary)))\n",
    "    else:\n",
    "        sal_max.append(1) # this to ensure annualisation condcutde for all rows\n",
    "        \n",
    "print (len(sal_max))"
   ]
  },
  {
   "cell_type": "code",
   "execution_count": 23,
   "metadata": {},
   "outputs": [
    {
     "name": "stdout",
     "output_type": "stream",
     "text": [
      "0    1\n",
      "1    1\n",
      "2    1\n",
      "3    1\n",
      "4    1\n",
      "Name: sal_max, dtype: float64\n"
     ]
    }
   ],
   "source": [
    "# Create series\n",
    "\n",
    "sal_max_df = pd.Series(sal_max,name='sal_max')\n",
    "\n",
    "print (sal_max_df.head())"
   ]
  },
  {
   "cell_type": "code",
   "execution_count": 24,
   "metadata": {},
   "outputs": [
    {
     "data": {
      "text/html": [
       "<div>\n",
       "<table border=\"1\" class=\"dataframe\">\n",
       "  <thead>\n",
       "    <tr style=\"text-align: right;\">\n",
       "      <th></th>\n",
       "      <th>title</th>\n",
       "      <th>company</th>\n",
       "      <th>location</th>\n",
       "      <th>industry</th>\n",
       "      <th>job_type</th>\n",
       "      <th>salary</th>\n",
       "      <th>body1</th>\n",
       "      <th>date</th>\n",
       "      <th>title_val</th>\n",
       "      <th>t_ba</th>\n",
       "      <th>...</th>\n",
       "      <th>t_ds</th>\n",
       "      <th>t_ml</th>\n",
       "      <th>ranking</th>\n",
       "      <th>r_junior</th>\n",
       "      <th>r_manager</th>\n",
       "      <th>r_senior</th>\n",
       "      <th>r_specialist</th>\n",
       "      <th>sal_annual</th>\n",
       "      <th>sal_range</th>\n",
       "      <th>sal_max</th>\n",
       "    </tr>\n",
       "  </thead>\n",
       "  <tbody>\n",
       "    <tr>\n",
       "      <th>0</th>\n",
       "      <td>data scientist / analytics specialist</td>\n",
       "      <td>Data#3 Limited -</td>\n",
       "      <td>Location: Sydney CBD, Inner West &amp; Eastern Sub...</td>\n",
       "      <td>Information &amp; Communication Technology</td>\n",
       "      <td>NaN</td>\n",
       "      <td>NA</td>\n",
       "      <td>Are you a talented and skilled IT professional...</td>\n",
       "      <td>13 May 2017</td>\n",
       "      <td>t_ds</td>\n",
       "      <td>0</td>\n",
       "      <td>...</td>\n",
       "      <td>1</td>\n",
       "      <td>0</td>\n",
       "      <td>r_specialist</td>\n",
       "      <td>0</td>\n",
       "      <td>0</td>\n",
       "      <td>0</td>\n",
       "      <td>1</td>\n",
       "      <td>NaN</td>\n",
       "      <td>[]</td>\n",
       "      <td>1</td>\n",
       "    </tr>\n",
       "    <tr>\n",
       "      <th>1</th>\n",
       "      <td>data scientist - senior consultant</td>\n",
       "      <td>Adaps IT -</td>\n",
       "      <td>Location: Melbourne CBD &amp; Inner Suburbs</td>\n",
       "      <td>Information &amp; Communication Technology</td>\n",
       "      <td>NaN</td>\n",
       "      <td>NA</td>\n",
       "      <td>Role: Data Scientist - Senior Consultant\\nExce...</td>\n",
       "      <td>12 May 2017</td>\n",
       "      <td>t_ds</td>\n",
       "      <td>0</td>\n",
       "      <td>...</td>\n",
       "      <td>1</td>\n",
       "      <td>0</td>\n",
       "      <td>r_senior</td>\n",
       "      <td>0</td>\n",
       "      <td>0</td>\n",
       "      <td>1</td>\n",
       "      <td>0</td>\n",
       "      <td>NaN</td>\n",
       "      <td>[]</td>\n",
       "      <td>1</td>\n",
       "    </tr>\n",
       "  </tbody>\n",
       "</table>\n",
       "<p>2 rows × 21 columns</p>\n",
       "</div>"
      ],
      "text/plain": [
       "                                   title           company  \\\n",
       "0  data scientist / analytics specialist  Data#3 Limited -   \n",
       "1     data scientist - senior consultant        Adaps IT -   \n",
       "\n",
       "                                            location  \\\n",
       "0  Location: Sydney CBD, Inner West & Eastern Sub...   \n",
       "1            Location: Melbourne CBD & Inner Suburbs   \n",
       "\n",
       "                                 industry  job_type salary  \\\n",
       "0  Information & Communication Technology       NaN     NA   \n",
       "1  Information & Communication Technology       NaN     NA   \n",
       "\n",
       "                                               body1         date title_val  \\\n",
       "0  Are you a talented and skilled IT professional...  13 May 2017      t_ds   \n",
       "1  Role: Data Scientist - Senior Consultant\\nExce...  12 May 2017      t_ds   \n",
       "\n",
       "   t_ba   ...    t_ds  t_ml       ranking r_junior  r_manager  r_senior  \\\n",
       "0     0   ...       1     0  r_specialist        0          0         0   \n",
       "1     0   ...       1     0      r_senior        0          0         1   \n",
       "\n",
       "   r_specialist  sal_annual sal_range sal_max  \n",
       "0             1         NaN        []       1  \n",
       "1             0         NaN        []       1  \n",
       "\n",
       "[2 rows x 21 columns]"
      ]
     },
     "execution_count": 24,
     "metadata": {},
     "output_type": "execute_result"
    }
   ],
   "source": [
    "# join with initial df\n",
    "\n",
    "jobs = jobs.join(sal_max_df)\n",
    "                  \n",
    "jobs.head(2)"
   ]
  },
  {
   "cell_type": "code",
   "execution_count": 25,
   "metadata": {
    "collapsed": true
   },
   "outputs": [],
   "source": [
    "# phew... this is getting serious.\n",
    "# Firstly, we create a multiplier column based on the salary period\n",
    "\n",
    "jobs[\"sal_annual\"] = jobs[\"sal_annual\"].fillna('1.0')\n",
    "jobs.ix[jobs[\"sal_annual\"].str.contains(\"year\"),\"sal_multiplier\"] = 1.0\n",
    "jobs.ix[jobs[\"sal_annual\"].str.contains(\"month\"),\"sal_multiplier\"] = 12.0 \n",
    "jobs.ix[jobs[\"sal_annual\"].str.contains(\"week\"),\"sal_multiplier\"] = 48.0 # general working weeks\n",
    "jobs.ix[jobs[\"sal_annual\"].str.contains(\"day\"),\"sal_multiplier\"] = 249.0 # avg of 249 working days PA\n",
    "jobs.ix[jobs[\"sal_annual\"].str.contains(\"hour\"),\"sal_multiplier\"] = 1976.0 # Avg. of 1976 working days PA."
   ]
  },
  {
   "cell_type": "code",
   "execution_count": 26,
   "metadata": {
    "scrolled": true
   },
   "outputs": [
    {
     "data": {
      "text/html": [
       "<div>\n",
       "<table border=\"1\" class=\"dataframe\">\n",
       "  <thead>\n",
       "    <tr style=\"text-align: right;\">\n",
       "      <th></th>\n",
       "      <th>title</th>\n",
       "      <th>company</th>\n",
       "      <th>location</th>\n",
       "      <th>industry</th>\n",
       "      <th>job_type</th>\n",
       "      <th>salary</th>\n",
       "      <th>body1</th>\n",
       "      <th>date</th>\n",
       "      <th>title_val</th>\n",
       "      <th>t_ba</th>\n",
       "      <th>...</th>\n",
       "      <th>ranking</th>\n",
       "      <th>r_junior</th>\n",
       "      <th>r_manager</th>\n",
       "      <th>r_senior</th>\n",
       "      <th>r_specialist</th>\n",
       "      <th>sal_annual</th>\n",
       "      <th>sal_range</th>\n",
       "      <th>sal_max</th>\n",
       "      <th>sal_multiplier</th>\n",
       "      <th>sal_final</th>\n",
       "    </tr>\n",
       "  </thead>\n",
       "  <tbody>\n",
       "    <tr>\n",
       "      <th>0</th>\n",
       "      <td>data scientist / analytics specialist</td>\n",
       "      <td>Data#3 Limited -</td>\n",
       "      <td>Location: Sydney CBD, Inner West &amp; Eastern Sub...</td>\n",
       "      <td>Information &amp; Communication Technology</td>\n",
       "      <td>NaN</td>\n",
       "      <td>NA</td>\n",
       "      <td>Are you a talented and skilled IT professional...</td>\n",
       "      <td>13 May 2017</td>\n",
       "      <td>t_ds</td>\n",
       "      <td>0</td>\n",
       "      <td>...</td>\n",
       "      <td>r_specialist</td>\n",
       "      <td>0</td>\n",
       "      <td>0</td>\n",
       "      <td>0</td>\n",
       "      <td>1</td>\n",
       "      <td>1.0</td>\n",
       "      <td>[]</td>\n",
       "      <td>1</td>\n",
       "      <td>NaN</td>\n",
       "      <td>NaN</td>\n",
       "    </tr>\n",
       "    <tr>\n",
       "      <th>1</th>\n",
       "      <td>data scientist - senior consultant</td>\n",
       "      <td>Adaps IT -</td>\n",
       "      <td>Location: Melbourne CBD &amp; Inner Suburbs</td>\n",
       "      <td>Information &amp; Communication Technology</td>\n",
       "      <td>NaN</td>\n",
       "      <td>NA</td>\n",
       "      <td>Role: Data Scientist - Senior Consultant\\nExce...</td>\n",
       "      <td>12 May 2017</td>\n",
       "      <td>t_ds</td>\n",
       "      <td>0</td>\n",
       "      <td>...</td>\n",
       "      <td>r_senior</td>\n",
       "      <td>0</td>\n",
       "      <td>0</td>\n",
       "      <td>1</td>\n",
       "      <td>0</td>\n",
       "      <td>1.0</td>\n",
       "      <td>[]</td>\n",
       "      <td>1</td>\n",
       "      <td>NaN</td>\n",
       "      <td>NaN</td>\n",
       "    </tr>\n",
       "  </tbody>\n",
       "</table>\n",
       "<p>2 rows × 23 columns</p>\n",
       "</div>"
      ],
      "text/plain": [
       "                                   title           company  \\\n",
       "0  data scientist / analytics specialist  Data#3 Limited -   \n",
       "1     data scientist - senior consultant        Adaps IT -   \n",
       "\n",
       "                                            location  \\\n",
       "0  Location: Sydney CBD, Inner West & Eastern Sub...   \n",
       "1            Location: Melbourne CBD & Inner Suburbs   \n",
       "\n",
       "                                 industry  job_type salary  \\\n",
       "0  Information & Communication Technology       NaN     NA   \n",
       "1  Information & Communication Technology       NaN     NA   \n",
       "\n",
       "                                               body1         date title_val  \\\n",
       "0  Are you a talented and skilled IT professional...  13 May 2017      t_ds   \n",
       "1  Role: Data Scientist - Senior Consultant\\nExce...  12 May 2017      t_ds   \n",
       "\n",
       "   t_ba    ...          ranking  r_junior  r_manager r_senior  r_specialist  \\\n",
       "0     0    ...     r_specialist         0          0        0             1   \n",
       "1     0    ...         r_senior         0          0        1             0   \n",
       "\n",
       "   sal_annual  sal_range  sal_max sal_multiplier sal_final  \n",
       "0         1.0         []        1            NaN       NaN  \n",
       "1         1.0         []        1            NaN       NaN  \n",
       "\n",
       "[2 rows x 23 columns]"
      ]
     },
     "execution_count": 26,
     "metadata": {},
     "output_type": "execute_result"
    }
   ],
   "source": [
    "# Calculate final wage: maximum sal multiplied by the period\n",
    "\n",
    "jobs['sal_max'] = jobs[\"sal_max\"].fillna('1')\n",
    "jobs['sal_final'] = jobs['sal_max'] * jobs['sal_multiplier']\n",
    "jobs.head(2)"
   ]
  },
  {
   "cell_type": "code",
   "execution_count": 27,
   "metadata": {
    "scrolled": true
   },
   "outputs": [
    {
     "data": {
      "text/plain": [
       "Information & Communication Technology    1524\n",
       "Accounting                                 173\n",
       "Consulting & Strategy                      125\n",
       "Banking & Financial Services               120\n",
       "Science & Technology                        60\n",
       "Government & Defence                        42\n",
       "Administration & Office Support             31\n",
       "Marketing & Communications                  30\n",
       "Manufacturing, Transport & Logistics        15\n",
       "Sales                                       14\n",
       "Insurance & Superannuation                  12\n",
       "Human Resources & Recruitment               11\n",
       "Education & Training                        11\n",
       "Healthcare & Medical                         6\n",
       "Real Estate & Property                       5\n",
       "Mining, Resources & Energy                   4\n",
       "Retail & Consumer Products                   4\n",
       "Call Centre & Customer Service               4\n",
       "Design & Architecture                        3\n",
       "Engineering                                  2\n",
       "Legal                                        2\n",
       "Community Services & Development             1\n",
       "Construction                                 1\n",
       "Advertising, Arts & Media                    1\n",
       "CEO & General Management                     1\n",
       "Trades & Services                            1\n",
       "Name: industry, dtype: int64"
      ]
     },
     "execution_count": 27,
     "metadata": {},
     "output_type": "execute_result"
    }
   ],
   "source": [
    "# get a feel for the industry column\n",
    "jobs['industry'].value_counts()"
   ]
  },
  {
   "cell_type": "code",
   "execution_count": 28,
   "metadata": {
    "collapsed": true
   },
   "outputs": [],
   "source": [
    " # Create dictionary for industry - '1_' indicates an industry.\n",
    "# This will be a useful identifier when creating dummy columns.\n",
    "\n",
    "ind_dict = {'Information & Communication Technology':'1_ICT'\n",
    "                 ,'Accounting':'1_accounting'\n",
    "                 ,'Banking & Financial Services':'1_BFS'\n",
    "                 ,'Consulting & Strategy':'1_ConsStrat'\n",
    "                 ,'Advertising, Arts & Media':'1_media'\n",
    "                 ,'Design & Architecture':'1_architecture'\n",
    "                 ,'Community Services & Development':'1_csd'\n",
    "                 ,'Legal':'1_legal'\n",
    "                 ,'Farming, Animals & Conservation':'1_farming'\n",
    "                 ,'Construction':'1_construct'\n",
    "                 ,'Science & Technology':'1_SciTech'\n",
    "                 ,'Marketing & Communications':'1_MarkComms'\n",
    "                 ,'Government & Defence':'1_Gov'\n",
    "                 ,'Insurance & Superannuation':'1_InsurSuper'\n",
    "                 ,'Education & Training':'1_Education'\n",
    "                 ,'Sales':'1_Sales'\n",
    "                 ,'Healthcare & Medical':'1_health'\n",
    "                 ,'Manufacturing, Transport & Logistics':'1_manufacturing'\n",
    "                 ,'Administration & Office Support':'1_admin'\n",
    "                 ,'Human Resources & Recruitment':'1_HR'\n",
    "                 ,'Engineering':'1_engineering','Mining, Resources & Energy':'1_miningEnergy'\n",
    "                 ,'Real Estate & Property':'1_property'\n",
    "                 ,'Call Centre & Customer Service':'1_customerS'\n",
    "                 ,'Retail & Consumer Products':'1_retail'                 \n",
    "                 ,'CEO & General Management':'1_management'}\n"
   ]
  },
  {
   "cell_type": "code",
   "execution_count": 29,
   "metadata": {
    "scrolled": true
   },
   "outputs": [
    {
     "data": {
      "text/html": [
       "<div>\n",
       "<table border=\"1\" class=\"dataframe\">\n",
       "  <thead>\n",
       "    <tr style=\"text-align: right;\">\n",
       "      <th></th>\n",
       "      <th>title</th>\n",
       "      <th>company</th>\n",
       "      <th>location</th>\n",
       "      <th>industry</th>\n",
       "      <th>job_type</th>\n",
       "      <th>salary</th>\n",
       "      <th>body1</th>\n",
       "      <th>date</th>\n",
       "      <th>title_val</th>\n",
       "      <th>t_ba</th>\n",
       "      <th>...</th>\n",
       "      <th>r_junior</th>\n",
       "      <th>r_manager</th>\n",
       "      <th>r_senior</th>\n",
       "      <th>r_specialist</th>\n",
       "      <th>sal_annual</th>\n",
       "      <th>sal_range</th>\n",
       "      <th>sal_max</th>\n",
       "      <th>sal_multiplier</th>\n",
       "      <th>sal_final</th>\n",
       "      <th>ind_val</th>\n",
       "    </tr>\n",
       "  </thead>\n",
       "  <tbody>\n",
       "    <tr>\n",
       "      <th>0</th>\n",
       "      <td>data scientist / analytics specialist</td>\n",
       "      <td>Data#3 Limited -</td>\n",
       "      <td>Location: Sydney CBD, Inner West &amp; Eastern Sub...</td>\n",
       "      <td>Information &amp; Communication Technology</td>\n",
       "      <td>NaN</td>\n",
       "      <td>NA</td>\n",
       "      <td>Are you a talented and skilled IT professional...</td>\n",
       "      <td>13 May 2017</td>\n",
       "      <td>t_ds</td>\n",
       "      <td>0</td>\n",
       "      <td>...</td>\n",
       "      <td>0</td>\n",
       "      <td>0</td>\n",
       "      <td>0</td>\n",
       "      <td>1</td>\n",
       "      <td>1.0</td>\n",
       "      <td>[]</td>\n",
       "      <td>1</td>\n",
       "      <td>NaN</td>\n",
       "      <td>NaN</td>\n",
       "      <td>1_ICT</td>\n",
       "    </tr>\n",
       "    <tr>\n",
       "      <th>1</th>\n",
       "      <td>data scientist - senior consultant</td>\n",
       "      <td>Adaps IT -</td>\n",
       "      <td>Location: Melbourne CBD &amp; Inner Suburbs</td>\n",
       "      <td>Information &amp; Communication Technology</td>\n",
       "      <td>NaN</td>\n",
       "      <td>NA</td>\n",
       "      <td>Role: Data Scientist - Senior Consultant\\nExce...</td>\n",
       "      <td>12 May 2017</td>\n",
       "      <td>t_ds</td>\n",
       "      <td>0</td>\n",
       "      <td>...</td>\n",
       "      <td>0</td>\n",
       "      <td>0</td>\n",
       "      <td>1</td>\n",
       "      <td>0</td>\n",
       "      <td>1.0</td>\n",
       "      <td>[]</td>\n",
       "      <td>1</td>\n",
       "      <td>NaN</td>\n",
       "      <td>NaN</td>\n",
       "      <td>1_ICT</td>\n",
       "    </tr>\n",
       "  </tbody>\n",
       "</table>\n",
       "<p>2 rows × 24 columns</p>\n",
       "</div>"
      ],
      "text/plain": [
       "                                   title           company  \\\n",
       "0  data scientist / analytics specialist  Data#3 Limited -   \n",
       "1     data scientist - senior consultant        Adaps IT -   \n",
       "\n",
       "                                            location  \\\n",
       "0  Location: Sydney CBD, Inner West & Eastern Sub...   \n",
       "1            Location: Melbourne CBD & Inner Suburbs   \n",
       "\n",
       "                                 industry  job_type salary  \\\n",
       "0  Information & Communication Technology       NaN     NA   \n",
       "1  Information & Communication Technology       NaN     NA   \n",
       "\n",
       "                                               body1         date title_val  \\\n",
       "0  Are you a talented and skilled IT professional...  13 May 2017      t_ds   \n",
       "1  Role: Data Scientist - Senior Consultant\\nExce...  12 May 2017      t_ds   \n",
       "\n",
       "   t_ba   ...    r_junior  r_manager  r_senior r_specialist  sal_annual  \\\n",
       "0     0   ...           0          0         0            1         1.0   \n",
       "1     0   ...           0          0         1            0         1.0   \n",
       "\n",
       "   sal_range  sal_max  sal_multiplier sal_final ind_val  \n",
       "0         []        1             NaN       NaN   1_ICT  \n",
       "1         []        1             NaN       NaN   1_ICT  \n",
       "\n",
       "[2 rows x 24 columns]"
      ]
     },
     "execution_count": 29,
     "metadata": {},
     "output_type": "execute_result"
    }
   ],
   "source": [
    "# Create field with dictionary\n",
    "\n",
    "jobs['ind_val'] = jobs['industry'].map(ind_dict)\n",
    "\n",
    "# Place 'other' for no industry records\n",
    "\n",
    "jobs['ind_val'] =jobs['ind_val'].fillna('1_alt')\n",
    "\n",
    "jobs.head(2)"
   ]
  },
  {
   "cell_type": "code",
   "execution_count": 66,
   "metadata": {},
   "outputs": [
    {
     "data": {
      "text/html": [
       "<div>\n",
       "<table border=\"1\" class=\"dataframe\">\n",
       "  <thead>\n",
       "    <tr style=\"text-align: right;\">\n",
       "      <th></th>\n",
       "      <th>title</th>\n",
       "      <th>company</th>\n",
       "      <th>location</th>\n",
       "      <th>industry</th>\n",
       "      <th>job_type</th>\n",
       "      <th>salary</th>\n",
       "      <th>body1</th>\n",
       "      <th>date</th>\n",
       "      <th>title_val</th>\n",
       "      <th>t_ba</th>\n",
       "      <th>...</th>\n",
       "      <th>1_customerS</th>\n",
       "      <th>1_engineering</th>\n",
       "      <th>1_health</th>\n",
       "      <th>1_legal</th>\n",
       "      <th>1_management</th>\n",
       "      <th>1_manufacturing</th>\n",
       "      <th>1_media</th>\n",
       "      <th>1_miningEnergy</th>\n",
       "      <th>1_property</th>\n",
       "      <th>1_retail</th>\n",
       "    </tr>\n",
       "  </thead>\n",
       "  <tbody>\n",
       "    <tr>\n",
       "      <th>0</th>\n",
       "      <td>data scientist / analytics specialist</td>\n",
       "      <td>Data#3 Limited -</td>\n",
       "      <td>Location: Sydney CBD, Inner West &amp; Eastern Sub...</td>\n",
       "      <td>Information &amp; Communication Technology</td>\n",
       "      <td>NaN</td>\n",
       "      <td>NA</td>\n",
       "      <td>Are you a talented and skilled IT professional...</td>\n",
       "      <td>13 May 2017</td>\n",
       "      <td>t_ds</td>\n",
       "      <td>0</td>\n",
       "      <td>...</td>\n",
       "      <td>0</td>\n",
       "      <td>0</td>\n",
       "      <td>0</td>\n",
       "      <td>0</td>\n",
       "      <td>0</td>\n",
       "      <td>0</td>\n",
       "      <td>0</td>\n",
       "      <td>0</td>\n",
       "      <td>0</td>\n",
       "      <td>0</td>\n",
       "    </tr>\n",
       "    <tr>\n",
       "      <th>1</th>\n",
       "      <td>data scientist - senior consultant</td>\n",
       "      <td>Adaps IT -</td>\n",
       "      <td>Location: Melbourne CBD &amp; Inner Suburbs</td>\n",
       "      <td>Information &amp; Communication Technology</td>\n",
       "      <td>NaN</td>\n",
       "      <td>NA</td>\n",
       "      <td>Role: Data Scientist - Senior Consultant\\nExce...</td>\n",
       "      <td>12 May 2017</td>\n",
       "      <td>t_ds</td>\n",
       "      <td>0</td>\n",
       "      <td>...</td>\n",
       "      <td>0</td>\n",
       "      <td>0</td>\n",
       "      <td>0</td>\n",
       "      <td>0</td>\n",
       "      <td>0</td>\n",
       "      <td>0</td>\n",
       "      <td>0</td>\n",
       "      <td>0</td>\n",
       "      <td>0</td>\n",
       "      <td>0</td>\n",
       "    </tr>\n",
       "  </tbody>\n",
       "</table>\n",
       "<p>2 rows × 51 columns</p>\n",
       "</div>"
      ],
      "text/plain": [
       "                                   title           company  \\\n",
       "0  data scientist / analytics specialist  Data#3 Limited -   \n",
       "1     data scientist - senior consultant        Adaps IT -   \n",
       "\n",
       "                                            location  \\\n",
       "0  Location: Sydney CBD, Inner West & Eastern Sub...   \n",
       "1            Location: Melbourne CBD & Inner Suburbs   \n",
       "\n",
       "                                 industry  job_type salary  \\\n",
       "0  Information & Communication Technology       NaN     NA   \n",
       "1  Information & Communication Technology       NaN     NA   \n",
       "\n",
       "                                               body1         date title_val  \\\n",
       "0  Are you a talented and skilled IT professional...  13 May 2017      t_ds   \n",
       "1  Role: Data Scientist - Senior Consultant\\nExce...  12 May 2017      t_ds   \n",
       "\n",
       "   t_ba   ...     1_customerS  1_engineering  1_health 1_legal  1_management  \\\n",
       "0     0   ...               0              0         0       0             0   \n",
       "1     0   ...               0              0         0       0             0   \n",
       "\n",
       "   1_manufacturing  1_media  1_miningEnergy 1_property 1_retail  \n",
       "0                0        0               0          0        0  \n",
       "1                0        0               0          0        0  \n",
       "\n",
       "[2 rows x 51 columns]"
      ]
     },
     "execution_count": 66,
     "metadata": {},
     "output_type": "execute_result"
    }
   ],
   "source": [
    "# Create dummies\n",
    "\n",
    "ind_val_dummies = pd.get_dummies(jobs['ind_val'])\n",
    "\n",
    "# Concat jobs_final\n",
    "\n",
    "jobs = pd.concat([jobs, ind_val_dummies], axis=1)\n",
    "\n",
    "jobs.head(2)"
   ]
  },
  {
   "cell_type": "code",
   "execution_count": 67,
   "metadata": {
    "collapsed": true
   },
   "outputs": [],
   "source": [
    "# now to extract the key words from the job description, in order to do this\n",
    "# I will have to tidy up the text and remove unnecssary words symbols etc.\n",
    "# I'm looking to keep keywords. lets see how we go.\n",
    "# ref: http://stackoverflow.com/questions/5486337/how-to-remove-stop-words-using-nltk-or-python\n",
    "# ref: http://stackoverflow.com/questions/5541745/get-rid-of-stopwords-and-punctuation\n",
    "\n",
    "from nltk.corpus import stopwords\n",
    "from nltk.corpus import wordnet as wn\n",
    "\n",
    "def tidy_text(body):\n",
    "\n",
    "    # Remove unwanted items\n",
    "    link_remove = re.sub(r\"http\\S+\", \"\", str(body))\n",
    "    \n",
    "    letters = re.sub(\"[^a-zA-Z]\", \" \", link_remove) \n",
    "    \n",
    "    # Convert to lower case, split into individual words\n",
    "    words = letters.lower().split()                             \n",
    "    \n",
    "    # Convert the stop words to a set (increases search speed)\n",
    "    stops = set(stopwords.words(\"english\"))                  \n",
    "    \n",
    "    # Remove stop words\n",
    "    filtered_words = [w for w in words if not w in stops]   \n",
    "    #\n",
    "    # Join the words back into one string separated by space and return the result.\n",
    "    return (\" \".join(filtered_words))"
   ]
  },
  {
   "cell_type": "code",
   "execution_count": 68,
   "metadata": {
    "scrolled": true
   },
   "outputs": [
    {
     "data": {
      "text/plain": [
       "'talented skilled professional looking next challenge data currently looking experienced data scientist analytics specialist work client initial month contract view extend convert perm client world class educational institution strong focus research analytics believe pursuing excellence analytics requires latest innovative technology across disciplines heavily invested advancement analytics team opportunity role reports director institutional analytics provides expertise inspires adoption advanced analytics solutions platforms insights organisation develops innovative solutions business problems keeping abreast emerging technologies looking looking person extensive experience capability across data analysis data quality management reporting also following qualities technical skills expert level understanding modern data software tools cloud computing many existing commercial products used data analytics extensive experience modern data centric programing languages including one python r development languages including one c java deep understanding application statistical predictive modelling concepts machine learning approaches clustering classification techniques recommendation optimisation algorithms artificial intelligence experience use complex data sets big data internet things iot thorough understanding current market data analysis machine learning tools environments excellent stakeholder engagement skills ability effectively communicate levels organisation strong problem solving skills eagerness explore insights exploration curiosity excellent interpersonal verbal written communication skills sound negotiating conflict resolution skills demonstrated level tact discretion dealing day day matters ability work independently part team taking initiative exercising sound judgement resolving matters may arise part normal daily work demonstrated ability organise prioritise work sometimes pressure competing priorities sometimes limited supervision tertiary education computational area study business analytics computer science computational statistics engineering physics biology example relevant experience years experience hands analytics data science role previous experience within complex bi data warehouse environment appreciation modern data science methods familiarity statistical machine learning techniques accomplished use statistical analysis environments r matlab spss sas strong visualisation storytelling skills ability synthesis complex problems meaningful insights experience artificial intelligence natural language processing virtual reality programming highly regarded send application strong match requirements please note candidates valid work rights match selection criteria shortlisted contacted'"
      ]
     },
     "execution_count": 68,
     "metadata": {},
     "output_type": "execute_result"
    }
   ],
   "source": [
    "# Create a new list from parsing\n",
    "\n",
    "tidied_text = []\n",
    "\n",
    "for row in jobs['body1']:\n",
    "    tidied_text.append(tidy_text(row))\n",
    "\n",
    "tidied_text[0]"
   ]
  },
  {
   "cell_type": "code",
   "execution_count": 69,
   "metadata": {},
   "outputs": [
    {
     "data": {
      "text/html": [
       "<div>\n",
       "<table border=\"1\" class=\"dataframe\">\n",
       "  <thead>\n",
       "    <tr style=\"text-align: right;\">\n",
       "      <th></th>\n",
       "      <th>title</th>\n",
       "      <th>company</th>\n",
       "      <th>location</th>\n",
       "      <th>industry</th>\n",
       "      <th>job_type</th>\n",
       "      <th>salary</th>\n",
       "      <th>body1</th>\n",
       "      <th>date</th>\n",
       "      <th>title_val</th>\n",
       "      <th>t_ba</th>\n",
       "      <th>...</th>\n",
       "      <th>1_customerS</th>\n",
       "      <th>1_engineering</th>\n",
       "      <th>1_health</th>\n",
       "      <th>1_legal</th>\n",
       "      <th>1_management</th>\n",
       "      <th>1_manufacturing</th>\n",
       "      <th>1_media</th>\n",
       "      <th>1_miningEnergy</th>\n",
       "      <th>1_property</th>\n",
       "      <th>1_retail</th>\n",
       "    </tr>\n",
       "  </thead>\n",
       "  <tbody>\n",
       "    <tr>\n",
       "      <th>0</th>\n",
       "      <td>data scientist / analytics specialist</td>\n",
       "      <td>Data#3 Limited -</td>\n",
       "      <td>Location: Sydney CBD, Inner West &amp; Eastern Sub...</td>\n",
       "      <td>Information &amp; Communication Technology</td>\n",
       "      <td>NaN</td>\n",
       "      <td>NA</td>\n",
       "      <td>Are you a talented and skilled IT professional...</td>\n",
       "      <td>13 May 2017</td>\n",
       "      <td>t_ds</td>\n",
       "      <td>0</td>\n",
       "      <td>...</td>\n",
       "      <td>0</td>\n",
       "      <td>0</td>\n",
       "      <td>0</td>\n",
       "      <td>0</td>\n",
       "      <td>0</td>\n",
       "      <td>0</td>\n",
       "      <td>0</td>\n",
       "      <td>0</td>\n",
       "      <td>0</td>\n",
       "      <td>0</td>\n",
       "    </tr>\n",
       "    <tr>\n",
       "      <th>1</th>\n",
       "      <td>data scientist - senior consultant</td>\n",
       "      <td>Adaps IT -</td>\n",
       "      <td>Location: Melbourne CBD &amp; Inner Suburbs</td>\n",
       "      <td>Information &amp; Communication Technology</td>\n",
       "      <td>NaN</td>\n",
       "      <td>NA</td>\n",
       "      <td>Role: Data Scientist - Senior Consultant\\nExce...</td>\n",
       "      <td>12 May 2017</td>\n",
       "      <td>t_ds</td>\n",
       "      <td>0</td>\n",
       "      <td>...</td>\n",
       "      <td>0</td>\n",
       "      <td>0</td>\n",
       "      <td>0</td>\n",
       "      <td>0</td>\n",
       "      <td>0</td>\n",
       "      <td>0</td>\n",
       "      <td>0</td>\n",
       "      <td>0</td>\n",
       "      <td>0</td>\n",
       "      <td>0</td>\n",
       "    </tr>\n",
       "  </tbody>\n",
       "</table>\n",
       "<p>2 rows × 51 columns</p>\n",
       "</div>"
      ],
      "text/plain": [
       "                                   title           company  \\\n",
       "0  data scientist / analytics specialist  Data#3 Limited -   \n",
       "1     data scientist - senior consultant        Adaps IT -   \n",
       "\n",
       "                                            location  \\\n",
       "0  Location: Sydney CBD, Inner West & Eastern Sub...   \n",
       "1            Location: Melbourne CBD & Inner Suburbs   \n",
       "\n",
       "                                 industry  job_type salary  \\\n",
       "0  Information & Communication Technology       NaN     NA   \n",
       "1  Information & Communication Technology       NaN     NA   \n",
       "\n",
       "                                               body1         date title_val  \\\n",
       "0  Are you a talented and skilled IT professional...  13 May 2017      t_ds   \n",
       "1  Role: Data Scientist - Senior Consultant\\nExce...  12 May 2017      t_ds   \n",
       "\n",
       "   t_ba   ...     1_customerS  1_engineering  1_health 1_legal  1_management  \\\n",
       "0     0   ...               0              0         0       0             0   \n",
       "1     0   ...               0              0         0       0             0   \n",
       "\n",
       "   1_manufacturing  1_media  1_miningEnergy 1_property 1_retail  \n",
       "0                0        0               0          0        0  \n",
       "1                0        0               0          0        0  \n",
       "\n",
       "[2 rows x 51 columns]"
      ]
     },
     "execution_count": 69,
     "metadata": {},
     "output_type": "execute_result"
    }
   ],
   "source": [
    "# add cleaned text to dataframe\n",
    "\n",
    "jobs['body_clean'] = tidied_text\n",
    "jobs.head(2)"
   ]
  },
  {
   "cell_type": "code",
   "execution_count": 70,
   "metadata": {},
   "outputs": [
    {
     "name": "stdout",
     "output_type": "stream",
     "text": [
      "Creating words...\n",
      "\n",
      "(2204, 13211)\n"
     ]
    }
   ],
   "source": [
    "# Vectorise df of words from the tidy jd\n",
    "# ref: http://scikit-learn.org/stable/modules/generated/sklearn.feature_extraction.text.CountVectorizer.html\n",
    "# ref: http://adataanalyst.com/scikit-learn/countvectorizer-sklearn-example/\n",
    "\n",
    "from sklearn.feature_extraction.text import CountVectorizer\n",
    "\n",
    "print (\"Creating words...\\n\")\n",
    "\n",
    "# Initialize the \"CountVectorizer\" - only top 15000 words kept\n",
    "vectorizer = CountVectorizer(analyzer = \"word\",tokenizer = None,preprocessor = None,stop_words = None,max_features = 15000) \n",
    "\n",
    "# fit_transform() with our cleaned body text\n",
    "train_data_features = vectorizer.fit_transform(tidied_text)\n",
    "\n",
    "# Fit cvec and convert the result to a DataFrame\n",
    "skills_df = pd.DataFrame(vectorizer.transform(tidied_text).todense(), columns=vectorizer.get_feature_names())\n",
    "\n",
    "print (skills_df.shape)"
   ]
  },
  {
   "cell_type": "code",
   "execution_count": 71,
   "metadata": {},
   "outputs": [
    {
     "data": {
      "text/html": [
       "<div>\n",
       "<table border=\"1\" class=\"dataframe\">\n",
       "  <thead>\n",
       "    <tr style=\"text-align: right;\">\n",
       "      <th></th>\n",
       "      <th>aa</th>\n",
       "      <th>aanlyst</th>\n",
       "      <th>aarconsultinggroup</th>\n",
       "      <th>ab</th>\n",
       "      <th>abap</th>\n",
       "      <th>abapdata</th>\n",
       "      <th>abappscd</th>\n",
       "      <th>abbotsford</th>\n",
       "      <th>abby</th>\n",
       "      <th>abc</th>\n",
       "      <th>...</th>\n",
       "      <th>zepplin</th>\n",
       "      <th>zero</th>\n",
       "      <th>zest</th>\n",
       "      <th>zetaris</th>\n",
       "      <th>zinfra</th>\n",
       "      <th>zone</th>\n",
       "      <th>zoo</th>\n",
       "      <th>zookeeper</th>\n",
       "      <th>zsoftech</th>\n",
       "      <th>zsofttech</th>\n",
       "    </tr>\n",
       "  </thead>\n",
       "  <tbody>\n",
       "    <tr>\n",
       "      <th>0</th>\n",
       "      <td>0</td>\n",
       "      <td>0</td>\n",
       "      <td>0</td>\n",
       "      <td>0</td>\n",
       "      <td>0</td>\n",
       "      <td>0</td>\n",
       "      <td>0</td>\n",
       "      <td>0</td>\n",
       "      <td>0</td>\n",
       "      <td>0</td>\n",
       "      <td>...</td>\n",
       "      <td>0</td>\n",
       "      <td>0</td>\n",
       "      <td>0</td>\n",
       "      <td>0</td>\n",
       "      <td>0</td>\n",
       "      <td>0</td>\n",
       "      <td>0</td>\n",
       "      <td>0</td>\n",
       "      <td>0</td>\n",
       "      <td>0</td>\n",
       "    </tr>\n",
       "    <tr>\n",
       "      <th>1</th>\n",
       "      <td>0</td>\n",
       "      <td>0</td>\n",
       "      <td>0</td>\n",
       "      <td>0</td>\n",
       "      <td>0</td>\n",
       "      <td>0</td>\n",
       "      <td>0</td>\n",
       "      <td>0</td>\n",
       "      <td>0</td>\n",
       "      <td>0</td>\n",
       "      <td>...</td>\n",
       "      <td>0</td>\n",
       "      <td>0</td>\n",
       "      <td>0</td>\n",
       "      <td>0</td>\n",
       "      <td>0</td>\n",
       "      <td>0</td>\n",
       "      <td>0</td>\n",
       "      <td>0</td>\n",
       "      <td>0</td>\n",
       "      <td>0</td>\n",
       "    </tr>\n",
       "    <tr>\n",
       "      <th>2</th>\n",
       "      <td>0</td>\n",
       "      <td>0</td>\n",
       "      <td>0</td>\n",
       "      <td>0</td>\n",
       "      <td>0</td>\n",
       "      <td>0</td>\n",
       "      <td>0</td>\n",
       "      <td>0</td>\n",
       "      <td>0</td>\n",
       "      <td>0</td>\n",
       "      <td>...</td>\n",
       "      <td>0</td>\n",
       "      <td>0</td>\n",
       "      <td>0</td>\n",
       "      <td>0</td>\n",
       "      <td>0</td>\n",
       "      <td>0</td>\n",
       "      <td>0</td>\n",
       "      <td>0</td>\n",
       "      <td>0</td>\n",
       "      <td>0</td>\n",
       "    </tr>\n",
       "    <tr>\n",
       "      <th>3</th>\n",
       "      <td>0</td>\n",
       "      <td>0</td>\n",
       "      <td>0</td>\n",
       "      <td>0</td>\n",
       "      <td>0</td>\n",
       "      <td>0</td>\n",
       "      <td>0</td>\n",
       "      <td>0</td>\n",
       "      <td>0</td>\n",
       "      <td>0</td>\n",
       "      <td>...</td>\n",
       "      <td>0</td>\n",
       "      <td>0</td>\n",
       "      <td>0</td>\n",
       "      <td>0</td>\n",
       "      <td>0</td>\n",
       "      <td>0</td>\n",
       "      <td>0</td>\n",
       "      <td>0</td>\n",
       "      <td>0</td>\n",
       "      <td>0</td>\n",
       "    </tr>\n",
       "    <tr>\n",
       "      <th>4</th>\n",
       "      <td>0</td>\n",
       "      <td>0</td>\n",
       "      <td>0</td>\n",
       "      <td>0</td>\n",
       "      <td>0</td>\n",
       "      <td>0</td>\n",
       "      <td>0</td>\n",
       "      <td>0</td>\n",
       "      <td>0</td>\n",
       "      <td>0</td>\n",
       "      <td>...</td>\n",
       "      <td>0</td>\n",
       "      <td>0</td>\n",
       "      <td>0</td>\n",
       "      <td>0</td>\n",
       "      <td>0</td>\n",
       "      <td>0</td>\n",
       "      <td>0</td>\n",
       "      <td>0</td>\n",
       "      <td>0</td>\n",
       "      <td>0</td>\n",
       "    </tr>\n",
       "  </tbody>\n",
       "</table>\n",
       "<p>5 rows × 13211 columns</p>\n",
       "</div>"
      ],
      "text/plain": [
       "   aa  aanlyst  aarconsultinggroup  ab  abap  abapdata  abappscd  abbotsford  \\\n",
       "0   0        0                   0   0     0         0         0           0   \n",
       "1   0        0                   0   0     0         0         0           0   \n",
       "2   0        0                   0   0     0         0         0           0   \n",
       "3   0        0                   0   0     0         0         0           0   \n",
       "4   0        0                   0   0     0         0         0           0   \n",
       "\n",
       "   abby  abc    ...      zepplin  zero  zest  zetaris  zinfra  zone  zoo  \\\n",
       "0     0    0    ...            0     0     0        0       0     0    0   \n",
       "1     0    0    ...            0     0     0        0       0     0    0   \n",
       "2     0    0    ...            0     0     0        0       0     0    0   \n",
       "3     0    0    ...            0     0     0        0       0     0    0   \n",
       "4     0    0    ...            0     0     0        0       0     0    0   \n",
       "\n",
       "   zookeeper  zsoftech  zsofttech  \n",
       "0          0         0          0  \n",
       "1          0         0          0  \n",
       "2          0         0          0  \n",
       "3          0         0          0  \n",
       "4          0         0          0  \n",
       "\n",
       "[5 rows x 13211 columns]"
      ]
     },
     "execution_count": 71,
     "metadata": {},
     "output_type": "execute_result"
    }
   ],
   "source": [
    "# fill nulls\n",
    "skills_df.fillna(0)\n",
    "\n",
    "skills_df.head()"
   ]
  },
  {
   "cell_type": "code",
   "execution_count": 72,
   "metadata": {
    "collapsed": true
   },
   "outputs": [],
   "source": [
    "# Create a list of data job skills sourced from multiple sources (and my own opinion!)\n",
    "\n",
    "skills = ['administration', 'management','research',\n",
    "        'data mining', 'modeling', 'predictive','business intelligence', 'optimization', 'mining','science'\n",
    "        'cloud', 'statistics',\n",
    "        'analysis', 'nlp',\n",
    "        'simulation', 'simulations', 'tableau', 'd3.js', 'sas','html','d3',\n",
    "        'hadoop', 'mapreduce','spark', 'pig', 'hive', 'shark','stats',\n",
    "        'zookeeper', 'flume', 'sql', 'nosql',\n",
    "        'mongodb', 'aws', 'unstructured', 'structured',\n",
    "        'structured', 'curiosity','communication','munging',\n",
    "        'learning', 'calculus', 'algebra', 'statistics', 'visualization',\n",
    "        'engineering', 'maths', 'design','classification', 'clustering','regression',\n",
    "        'entrepreneurial', 'entrepreneur', 'team','systems','IT',\n",
    "        'wrangling','mungoDB','r','rstudio','c++', 'python', 'java', 'ruby', 'javascript', 'data',\n",
    "        'matlab', 'scala', 'excel', \n",
    "        'development', 'deep learning', 'network', 'neural', 'sci-kit',\n",
    "        'pandas', 'numpy', 'bi', 'knime', 'octave', 'xlstat', '@risk',\n",
    "        'probability', 'dato', 'ggplot', 'ggvis', 'word', 'powerpoint', 'studio','management','analyst',\n",
    "        'presentation','writing']"
   ]
  },
  {
   "cell_type": "code",
   "execution_count": 73,
   "metadata": {},
   "outputs": [
    {
     "data": {
      "text/plain": [
       "['administration', 'analysis', 'analyst', 'aws', 'bi']"
      ]
     },
     "execution_count": 73,
     "metadata": {},
     "output_type": "execute_result"
    }
   ],
   "source": [
    "# Filter the columns of the vectorised dataframe for those that exist in our data skills list\n",
    "\n",
    "skill_list = skills_df.columns\n",
    "\n",
    "filter_list = [x for x in skill_list if x in skills]\n",
    "filter_list[0:5]"
   ]
  },
  {
   "cell_type": "code",
   "execution_count": 74,
   "metadata": {},
   "outputs": [
    {
     "name": "stdout",
     "output_type": "stream",
     "text": [
      "(2204, 72)\n"
     ]
    }
   ],
   "source": [
    "# Note this list is used to manually filter the full vectoriser dataframe\n",
    "# This allow a series of key-skills dummy columns to be placed into the final dataframe in the next cell.\n",
    "\n",
    "# Create a final data job skills dataframe and concatenate with the original dataframe\n",
    "\n",
    "skills_df = words_df[['python', 'java', 'ruby', 'javascript', 'data',\n",
    "        'matlab', 'scala', 'excel', 'tableau', 'sas','html',\n",
    "        'hadoop', 'mapreduce','spark', 'pig', 'hive', 'stats',\n",
    "        'zookeeper', 'flume', 'sql', 'nosql',\n",
    "        'mongodb', 'aws', 'unstructured',\n",
    "        'structured', 'curiosity','communication',\n",
    "        'learning', 'visualization',\n",
    "        'engineering', 'maths', 'design',\n",
    "        'development', 'administration', 'management','research',\n",
    "        'modeling', 'predictive',\n",
    "        'intelligence', 'optimization', 'mining','science',\n",
    "        'cloud', 'statistics',\n",
    "        'analysis', 'nlp',\n",
    "        'simulation', 'simulations', 'classification', 'clustering','regression',\n",
    "        'entrepreneurial', 'entrepreneur', 'team','systems',\n",
    "        'wrangling',\n",
    "        'deep', 'network', 'neural',\n",
    "        'pandas', 'numpy', 'bi',\n",
    "        'word', 'powerpoint', 'studio','ms',\n",
    "        'presentation','writing',\n",
    "        'bachelors','bachelor','masters','phd']]\n",
    "\n",
    "print (skills_df.shape)"
   ]
  },
  {
   "cell_type": "code",
   "execution_count": 140,
   "metadata": {},
   "outputs": [
    {
     "data": {
      "text/plain": [
       "(2204, 123)"
      ]
     },
     "execution_count": 140,
     "metadata": {},
     "output_type": "execute_result"
    }
   ],
   "source": [
    "# Concatenate into the final dataframe 'job_data_final'\n",
    "\n",
    "jobs_final = pd.concat([jobs, skills_df], axis=1)\n",
    "jobs_final.shape"
   ]
  },
  {
   "cell_type": "code",
   "execution_count": 141,
   "metadata": {},
   "outputs": [
    {
     "data": {
      "text/plain": [
       "job_type          2204\n",
       "sal_multiplier    1934\n",
       "sal_final         1934\n",
       "body1               39\n",
       "location             1\n",
       "industry             1\n",
       "date                 1\n",
       "phd                  0\n",
       "1_csd                0\n",
       "1_health             0\n",
       "dtype: int64"
      ]
     },
     "execution_count": 141,
     "metadata": {},
     "output_type": "execute_result"
    }
   ],
   "source": [
    "jobs_final.isnull().sum().sort_values(ascending=False).head(10)\n",
    "\n",
    "# Remove column nulls"
   ]
  },
  {
   "cell_type": "code",
   "execution_count": 142,
   "metadata": {
    "collapsed": true
   },
   "outputs": [],
   "source": [
    "# Calculate mean and std\n",
    "mean = np.mean(jobs_final['sal_final'], axis=0)\n",
    "sd = np.std(jobs_final['sal_final'], axis=0)"
   ]
  },
  {
   "cell_type": "code",
   "execution_count": 143,
   "metadata": {
    "collapsed": true
   },
   "outputs": [],
   "source": [
    "final_list = [x for x in jobs_final.sal_final if (x < mean + 1.5 * sd)]\n",
    "\n",
    "# Filter hail data by friends counts to keep:\n",
    "jobs_final = jobs_final.ix[(jobs_final['sal_final'].isin(final_list))]"
   ]
  },
  {
   "cell_type": "code",
   "execution_count": 144,
   "metadata": {},
   "outputs": [
    {
     "data": {
      "image/png": "[encoded data removed]",
      "text/plain": [
       "<matplotlib.figure.Figure at 0x7f412cf04240>"
      ]
     },
     "metadata": {},
     "output_type": "display_data"
    }
   ],
   "source": [
    "# safe to say that it obvious that annual salaries below $40k is somehow not realistic in AU.\n",
    "\n",
    "fig = plt.figure(figsize=(12, 8))\n",
    "sns.distplot(jobs_final['sal_final'],bins=20)\n",
    "plt.title(\"Salary Distribution -Initial\")\n",
    "plt.show()"
   ]
  },
  {
   "cell_type": "code",
   "execution_count": 146,
   "metadata": {},
   "outputs": [
    {
     "name": "stdout",
     "output_type": "stream",
     "text": [
      "267\n",
      "224100.0\n"
     ]
    }
   ],
   "source": [
    "# Check length of new dataframe and new max friends count\n",
    "print (len(jobs_final))\n",
    "print (jobs_final['sal_final'].max())"
   ]
  },
  {
   "cell_type": "code",
   "execution_count": 147,
   "metadata": {},
   "outputs": [
    {
     "name": "stdout",
     "output_type": "stream",
     "text": [
      "(222, 123)\n"
     ]
    }
   ],
   "source": [
    "jobs_final = jobs_final[jobs_final['sal_final'] > 40000]\n",
    "\n",
    "print (jobs_final.shape)"
   ]
  },
  {
   "cell_type": "code",
   "execution_count": 148,
   "metadata": {},
   "outputs": [
    {
     "data": {
      "image/png": "[encoded data removed]",
      "text/plain": [
       "<matplotlib.figure.Figure at 0x7f412ce73828>"
      ]
     },
     "metadata": {},
     "output_type": "display_data"
    }
   ],
   "source": [
    "fig = plt.figure(figsize=(12, 8))\n",
    "sns.distplot(jobs_final['sal_final'], bins=15,color='g')\n",
    "plt.title(\"Final salary distribution\")\n",
    "plt.show()"
   ]
  },
  {
   "cell_type": "code",
   "execution_count": 149,
   "metadata": {},
   "outputs": [
    {
     "data": {
      "image/png": "[encoded data removed]",
      "text/plain": [
       "<matplotlib.figure.Figure at 0x7f412f199ef0>"
      ]
     },
     "metadata": {},
     "output_type": "display_data"
    }
   ],
   "source": [
    "# Ranking V Salary Dist/Boxplots\n",
    "\n",
    "fig = plt.figure(figsize=(16, 8))\n",
    "sns.boxplot(x='ranking',y='sal_final',data=jobs_final,orient='v')\n",
    "plt.title(\"Ranking Vs Salary Distribution\")\n",
    "plt.xticks(rotation=50)\n",
    "plt.show()\n"
   ]
  },
  {
   "cell_type": "code",
   "execution_count": 150,
   "metadata": {},
   "outputs": [
    {
     "data": {
      "image/png": "[encoded data removed]",
      "text/plain": [
       "<matplotlib.figure.Figure at 0x7f412f44f6d8>"
      ]
     },
     "metadata": {},
     "output_type": "display_data"
    }
   ],
   "source": [
    "# Salary V title Dist/Boxplot\n",
    "\n",
    "fig = plt.figure(figsize=(16, 8))\n",
    "sns.boxplot(x='title_val',y='sal_final',data=jobs_final,orient='v')\n",
    "plt.title(\"Title Vs Salary Distribution\")\n",
    "plt.xticks(rotation=50)\n",
    "plt.show()"
   ]
  },
  {
   "cell_type": "code",
   "execution_count": 151,
   "metadata": {},
   "outputs": [
    {
     "data": {
      "image/png": "[encoded data removed]",
      "text/plain": [
       "<matplotlib.figure.Figure at 0x7f412f5db6a0>"
      ]
     },
     "metadata": {},
     "output_type": "display_data"
    }
   ],
   "source": [
    "# Salary V Industry Dist/Boxplots\n",
    "\n",
    "fig = plt.figure(figsize=(16, 8))\n",
    "sns.boxplot(x='industry',y='sal_final',data=jobs_final,orient='v')\n",
    "plt.title(\"Industry Vs Salary Distribution\")\n",
    "plt.xticks(rotation=45)\n",
    "plt.show()"
   ]
  },
  {
   "cell_type": "markdown",
   "metadata": {},
   "source": [
    "# Distribution insights:\n",
    "\n",
    "It's quite clear that consulting & strategy, ICT and Banking and finance are the highest paying industries for Data Science.  ICT and B & F have wide ranges and high median salaries, this is mainly due to teh large number of jobs and range in ranking and titles.\n"
   ]
  },
  {
   "cell_type": "markdown",
   "metadata": {},
   "source": [
    "# Part 1\n",
    "\n",
    "With our clean jobs dataset we can begin the task of determining if / how industry, title and skillset impacts on salary.  Can we use this to predict salaries and in turn ensure the competitive edge in providing a actionable insights for our external stakeholders of Acme Recruitment.\n",
    "\n",
    "Initially we will utilise two models to help us determine the impact of these factors in predicting.  \n",
    "We will be using teh features of location, industry, jobtype, ranking to predict salary.\n",
    "Secondly we will use keywords skills to investigation how best to predict salary for key skills and words in job descriptions\n",
    "\n",
    "With a selection of predictors we will perform Linear Regression with the salary as target.\n",
    "\n",
    "We may need to look at all avenues in order to acquire an accurate level of prediction.  In order to hone in on the salary prediction we may have to seperate the salary range into two.  asking the question for low v high paying jobs which factors influence most?"
   ]
  },
  {
   "cell_type": "code",
   "execution_count": 152,
   "metadata": {
    "collapsed": true
   },
   "outputs": [],
   "source": [
    "from sklearn.linear_model import LinearRegression, LogisticRegression, Lasso, LassoCV\n",
    "from sklearn.tree import DecisionTreeRegressor, DecisionTreeClassifier\n",
    "from sklearn.model_selection import GridSearchCV, cross_val_score"
   ]
  },
  {
   "cell_type": "code",
   "execution_count": 155,
   "metadata": {},
   "outputs": [],
   "source": [
    "# Dataframe of all overall (dummy) variables - industry, title, ranking\n",
    "# this will be used to ss for the purposes of the regression execises\n",
    "X_overall = jobs_final[['t_ba', 't_bd', 't_ds', 't_ml',\n",
    "       'r_junior', 'r_manager', 'r_senior', 'r_specialist','1_BFS', '1_ConsStrat', '1_Education', '1_Gov', '1_HR',\n",
    "       '1_ICT', '1_InsurSuper', '1_MarkComms', '1_Sales', '1_SciTech',\n",
    "       '1_accounting', '1_admin', '1_architecture', '1_construct',\n",
    "       '1_csd', '1_customerS', '1_engineering', '1_health', '1_legal',\n",
    "       '1_management', '1_manufacturing', '1_media', '1_miningEnergy',\n",
    "       '1_property', '1_retail']]"
   ]
  },
  {
   "cell_type": "code",
   "execution_count": 156,
   "metadata": {
    "collapsed": true
   },
   "outputs": [],
   "source": [
    "\n",
    "from sklearn.preprocessing import StandardScaler\n",
    "\n",
    "ss = StandardScaler()\n",
    "\n",
    "Xs_overall = ss.fit_transform(X_overall)"
   ]
  },
  {
   "cell_type": "code",
   "execution_count": 157,
   "metadata": {
    "collapsed": true
   },
   "outputs": [],
   "source": [
    "# Set y variable:\n",
    "\n",
    "y = jobs_final['sal_final']\n"
   ]
  },
  {
   "cell_type": "code",
   "execution_count": 162,
   "metadata": {},
   "outputs": [
    {
     "name": "stderr",
     "output_type": "stream",
     "text": [
      "................................................................................................................................................................................................................................................................................................................................................................................................................................................................................................................................................................................................................................................................................................................................................................................................................................................................................................................................................................................................................................................................................................................................................................................................................................................................................................................................................................................................................................................................................................................................................................................................................................................................................................................................................................................................................................................................................................................................................................................................................................................................................[Parallel(n_jobs=1)]: Done   4 out of   4 | elapsed:    1.2s finished\n"
     ]
    },
    {
     "name": "stdout",
     "output_type": "stream",
     "text": [
      "[ 0.48691871  0.47522058  0.15236589  0.1745048 ]\n",
      "0.322252495318\n"
     ]
    },
    {
     "name": "stderr",
     "output_type": "stream",
     "text": [
      "/usr/local/lib/python3.5/dist-packages/sklearn/linear_model/coordinate_descent.py:484: ConvergenceWarning: Objective did not converge. You might want to increase the number of iterations. Fitting data with very small alpha may cause precision problems.\n",
      "  ConvergenceWarning)\n",
      "/usr/local/lib/python3.5/dist-packages/sklearn/linear_model/coordinate_descent.py:484: ConvergenceWarning: Objective did not converge. You might want to increase the number of iterations. Fitting data with very small alpha may cause precision problems.\n",
      "  ConvergenceWarning)\n"
     ]
    }
   ],
   "source": [
    "# Lasso Linnear Regression\n",
    "\n",
    "# Lassco CV and git with predictors and salary target\n",
    "optimal_lasso = LassoCV(n_alphas=500, cv=4, verbose=1)\n",
    "optimal_lasso.fit(Xs_overall, y)\n",
    "\n",
    "lasso = Lasso(alpha=optimal_lasso.alpha_)\n",
    "\n",
    "lasso_scores = cross_val_score(lasso, Xs_overall, y, cv=4)\n",
    "\n",
    "# Display the individual scores of each CV sampling method, and the average\n",
    "print (lasso_scores)\n",
    "print (np.mean(lasso_scores))"
   ]
  },
  {
   "cell_type": "code",
   "execution_count": 164,
   "metadata": {},
   "outputs": [
    {
     "name": "stdout",
     "output_type": "stream",
     "text": [
      "0.51570611738\n"
     ]
    },
    {
     "data": {
      "text/html": [
       "<div>\n",
       "<table border=\"1\" class=\"dataframe\">\n",
       "  <thead>\n",
       "    <tr style=\"text-align: right;\">\n",
       "      <th></th>\n",
       "      <th>abs_coef</th>\n",
       "      <th>coef</th>\n",
       "      <th>variable</th>\n",
       "    </tr>\n",
       "  </thead>\n",
       "  <tbody>\n",
       "    <tr>\n",
       "      <th>3</th>\n",
       "      <td>18950.737373</td>\n",
       "      <td>18950.737373</td>\n",
       "      <td>t_ml</td>\n",
       "    </tr>\n",
       "    <tr>\n",
       "      <th>2</th>\n",
       "      <td>15822.002985</td>\n",
       "      <td>15822.002985</td>\n",
       "      <td>t_ds</td>\n",
       "    </tr>\n",
       "    <tr>\n",
       "      <th>13</th>\n",
       "      <td>9754.037625</td>\n",
       "      <td>9754.037625</td>\n",
       "      <td>1_ICT</td>\n",
       "    </tr>\n",
       "    <tr>\n",
       "      <th>6</th>\n",
       "      <td>9737.417239</td>\n",
       "      <td>9737.417239</td>\n",
       "      <td>r_senior</td>\n",
       "    </tr>\n",
       "    <tr>\n",
       "      <th>8</th>\n",
       "      <td>9474.046386</td>\n",
       "      <td>9474.046386</td>\n",
       "      <td>1_BFS</td>\n",
       "    </tr>\n",
       "  </tbody>\n",
       "</table>\n",
       "</div>"
      ],
      "text/plain": [
       "        abs_coef          coef  variable\n",
       "3   18950.737373  18950.737373      t_ml\n",
       "2   15822.002985  15822.002985      t_ds\n",
       "13   9754.037625   9754.037625     1_ICT\n",
       "6    9737.417239   9737.417239  r_senior\n",
       "8    9474.046386   9474.046386     1_BFS"
      ]
     },
     "execution_count": 164,
     "metadata": {},
     "output_type": "execute_result"
    }
   ],
   "source": [
    "# Validate the LassoCV and investigate the predictor coefficients\n",
    "\n",
    "lasso.fit(Xs_overall, y)\n",
    "print (lasso.score(Xs_overall, y))\n",
    "\n",
    "lasso_coefs = pd.DataFrame({'variable':X_overall.columns,\n",
    "                            'coef':lasso.coef_,\n",
    "                            'abs_coef':np.abs(lasso.coef_)})\n",
    "\n",
    "lasso_coefs.sort_values('abs_coef', inplace=True, ascending=False)\n",
    "\n",
    "lasso_coefs.head(5)"
   ]
  },
  {
   "cell_type": "markdown",
   "metadata": {},
   "source": [
    "Not a great score, we did try a few variables for cv and found that 4 is optimal.  The variables with the highest coefficients being machine learning, data science, the ICT industryshow that it matches with our initial plots.\n",
    "\n",
    "We will now try a classification model.  We will split the salary into high and low. \n",
    "\n",
    "I've picked $120k as the divider.  This will help us to predict for ranked salaries more accurately.\n",
    "\n",
    "We will use two models for comparison of the accuracy scores.  In this case we've selected initally -a Decision Tree Classifier and Logisitc Regression."
   ]
  },
  {
   "cell_type": "code",
   "execution_count": 175,
   "metadata": {},
   "outputs": [
    {
     "data": {
      "image/png": "[encoded data removed]",
      "text/plain": [
       "<matplotlib.figure.Figure at 0x7f412cdc15f8>"
      ]
     },
     "metadata": {},
     "output_type": "display_data"
    }
   ],
   "source": [
    "# Create a new X value\n",
    "jobs_final['sal_split'] = 0\n",
    "\n",
    "# Set >120000 as high $\n",
    "jobs_final.loc[jobs_final.sal_final > 120000, 'sal_split'] = 1\n",
    "\n",
    "jobs_final['sal_split'].value_counts().plot(kind='bar') # More high paid jobs than lower paid jobs!\n",
    "plt.show()\n"
   ]
  },
  {
   "cell_type": "code",
   "execution_count": 176,
   "metadata": {
    "collapsed": true
   },
   "outputs": [],
   "source": [
    " #Reset y as new target (class) for our classification algorithm\n",
    "# ref: http://machinelearningmastery.com/implement-decision-tree-algorithm-scratch-python/\n",
    "# ref: https://github.com/chrisspen/dtree/blob/master/dtree.py\n",
    "# Decision Tree Classification\n",
    "\n",
    "y = jobs_final['sal_split']"
   ]
  },
  {
   "cell_type": "code",
   "execution_count": 177,
   "metadata": {
    "collapsed": true
   },
   "outputs": [],
   "source": [
    "# Perform a gridsearch to get the optimal hyperparameters for our decision tree model, based on ou X and Y variables\n",
    "\n",
    "dtc_params = {\n",
    "    'max_depth':[None,1,2,3,4,5,6,7,8,9,10],\n",
    "    'max_features':[None,'log2','sqrt',2,3,4,5],\n",
    "    'min_samples_split':[2,3,4,5,10,15,20,25,30,40,50]\n",
    "}\n",
    "\n",
    "dtc = DecisionTreeClassifier()\n",
    "dtc_gs = GridSearchCV(dtc, dtc_params, cv=5, verbose=1, refit=True)\n"
   ]
  },
  {
   "cell_type": "code",
   "execution_count": 178,
   "metadata": {},
   "outputs": [
    {
     "name": "stdout",
     "output_type": "stream",
     "text": [
      "Fitting 5 folds for each of 847 candidates, totalling 4235 fits\n"
     ]
    },
    {
     "name": "stderr",
     "output_type": "stream",
     "text": [
      "[Parallel(n_jobs=1)]: Done 4235 out of 4235 | elapsed:   26.7s finished\n"
     ]
    },
    {
     "data": {
      "text/plain": [
       "GridSearchCV(cv=5, error_score='raise',\n",
       "       estimator=DecisionTreeClassifier(class_weight=None, criterion='gini', max_depth=None,\n",
       "            max_features=None, max_leaf_nodes=None,\n",
       "            min_impurity_split=1e-07, min_samples_leaf=1,\n",
       "            min_samples_split=2, min_weight_fraction_leaf=0.0,\n",
       "            presort=False, random_state=None, splitter='best'),\n",
       "       fit_params={}, iid=True, n_jobs=1,\n",
       "       param_grid={'max_features': [None, 'log2', 'sqrt', 2, 3, 4, 5], 'max_depth': [None, 1, 2, 3, 4, 5, 6, 7, 8, 9, 10], 'min_samples_split': [2, 3, 4, 5, 10, 15, 20, 25, 30, 40, 50]},\n",
       "       pre_dispatch='2*n_jobs', refit=True, return_train_score=True,\n",
       "       scoring=None, verbose=1)"
      ]
     },
     "execution_count": 178,
     "metadata": {},
     "output_type": "execute_result"
    }
   ],
   "source": [
    "# Fit the data to the gridsearch\n",
    "dtc_gs.fit(Xs_overall, y)"
   ]
  },
  {
   "cell_type": "code",
   "execution_count": 184,
   "metadata": {},
   "outputs": [
    {
     "name": "stdout",
     "output_type": "stream",
     "text": [
      "{'max_features': 4, 'max_depth': 8, 'min_samples_split': 5}\n",
      "0.801801801802\n"
     ]
    }
   ],
   "source": [
    "# Review the accuracy \n",
    "\n",
    "dtc_best = dtc_gs.best_estimator_\n",
    "print (dtc_gs.best_params_)\n",
    "print (dtc_gs.best_score_)"
   ]
  },
  {
   "cell_type": "code",
   "execution_count": 180,
   "metadata": {},
   "outputs": [
    {
     "name": "stdout",
     "output_type": "stream",
     "text": [
      "[ 0.8         0.82222222  0.56818182  0.68181818  0.75      ]\n",
      "0.724444444444\n"
     ]
    }
   ],
   "source": [
    "from sklearn.tree import DecisionTreeRegressor\n",
    "\n",
    "dtr = DecisionTreeClassifier(max_features=4,min_samples_split=2,max_depth=6)\n",
    "\n",
    "dtr.fit(X_overall, y)\n",
    "\n",
    "dtr_scores = cross_val_score(dtr, X_overall, y, cv=5)\n",
    "print (dtr_scores)\n",
    "print (sum(dtr_scores)/len(dtr_scores))"
   ]
  },
  {
   "cell_type": "code",
   "execution_count": 181,
   "metadata": {},
   "outputs": [
    {
     "data": {
      "image/png": "[encoded data removed]",
      "text/plain": [
       "<IPython.core.display.Image object>"
      ]
     },
     "execution_count": 181,
     "metadata": {},
     "output_type": "execute_result"
    }
   ],
   "source": [
    "# Plot the final decision tree.  good scores so far, better than expected.\n",
    "\n",
    "from sklearn.externals.six import StringIO  \n",
    "from IPython.display import Image  \n",
    "from sklearn.tree import export_graphviz\n",
    "import pydotplus\n",
    "from sklearn.linear_model import Ridge, Lasso, ElasticNet, LinearRegression, RidgeCV, LassoCV, ElasticNetCV\n",
    "\n",
    "# initialize the output file object\n",
    "dot_data = StringIO() \n",
    "\n",
    "export_graphviz(dtr, out_file=dot_data,  \n",
    "                filled=True, rounded=True,\n",
    "                special_characters=True,\n",
    "                feature_names=X_overall.columns)  \n",
    "\n",
    "\n",
    "graph = pydotplus.graph_from_dot_data(dot_data.getvalue())  \n",
    "Image(graph.create_png())"
   ]
  },
  {
   "cell_type": "code",
   "execution_count": 182,
   "metadata": {},
   "outputs": [
    {
     "data": {
      "text/html": [
       "<div>\n",
       "<table border=\"1\" class=\"dataframe\">\n",
       "  <thead>\n",
       "    <tr style=\"text-align: right;\">\n",
       "      <th></th>\n",
       "      <th>feature</th>\n",
       "      <th>importance</th>\n",
       "    </tr>\n",
       "  </thead>\n",
       "  <tbody>\n",
       "    <tr>\n",
       "      <th>18</th>\n",
       "      <td>1_accounting</td>\n",
       "      <td>0.422529</td>\n",
       "    </tr>\n",
       "    <tr>\n",
       "      <th>17</th>\n",
       "      <td>1_SciTech</td>\n",
       "      <td>0.127007</td>\n",
       "    </tr>\n",
       "    <tr>\n",
       "      <th>5</th>\n",
       "      <td>r_manager</td>\n",
       "      <td>0.101780</td>\n",
       "    </tr>\n",
       "    <tr>\n",
       "      <th>13</th>\n",
       "      <td>1_ICT</td>\n",
       "      <td>0.081605</td>\n",
       "    </tr>\n",
       "    <tr>\n",
       "      <th>7</th>\n",
       "      <td>r_specialist</td>\n",
       "      <td>0.055215</td>\n",
       "    </tr>\n",
       "    <tr>\n",
       "      <th>4</th>\n",
       "      <td>r_junior</td>\n",
       "      <td>0.048893</td>\n",
       "    </tr>\n",
       "    <tr>\n",
       "      <th>6</th>\n",
       "      <td>r_senior</td>\n",
       "      <td>0.046263</td>\n",
       "    </tr>\n",
       "    <tr>\n",
       "      <th>3</th>\n",
       "      <td>t_ml</td>\n",
       "      <td>0.043174</td>\n",
       "    </tr>\n",
       "    <tr>\n",
       "      <th>1</th>\n",
       "      <td>t_bd</td>\n",
       "      <td>0.024026</td>\n",
       "    </tr>\n",
       "    <tr>\n",
       "      <th>11</th>\n",
       "      <td>1_Gov</td>\n",
       "      <td>0.013938</td>\n",
       "    </tr>\n",
       "  </tbody>\n",
       "</table>\n",
       "</div>"
      ],
      "text/plain": [
       "         feature  importance\n",
       "18  1_accounting    0.422529\n",
       "17     1_SciTech    0.127007\n",
       "5      r_manager    0.101780\n",
       "13         1_ICT    0.081605\n",
       "7   r_specialist    0.055215\n",
       "4       r_junior    0.048893\n",
       "6       r_senior    0.046263\n",
       "3           t_ml    0.043174\n",
       "1           t_bd    0.024026\n",
       "11         1_Gov    0.013938"
      ]
     },
     "execution_count": 182,
     "metadata": {},
     "output_type": "execute_result"
    }
   ],
   "source": [
    "# Extract the top features\n",
    "\n",
    "top_features = pd.DataFrame({\n",
    "        'feature':X_overall.columns,\n",
    "        'importance':dtc_best.feature_importances_})\n",
    "\n",
    "top_features.sort_values('importance', ascending=False, inplace=True)\n",
    "top_features.head(10)"
   ]
  },
  {
   "cell_type": "code",
   "execution_count": 183,
   "metadata": {},
   "outputs": [
    {
     "data": {
      "image/png": "[encoded data removed]",
      "text/plain": [
       "<matplotlib.figure.Figure at 0x7f412f3b2278>"
      ]
     },
     "metadata": {},
     "output_type": "display_data"
    }
   ],
   "source": [
    "# Decision Tree feature importance plot\n",
    "\n",
    "top_features.head(10).sort_values('importance',ascending=False).plot(kind='bar',\n",
    "                                                                 x='feature',\n",
    "                                                                 figsize=(10,6),\n",
    "                                                                            rot=45,\n",
    "                                                                 color='g',\n",
    "                                                                 title=\"Top 10 importance overall features\")\n",
    "plt.show()"
   ]
  },
  {
   "cell_type": "markdown",
   "metadata": {},
   "source": [
    "Good scores first up.  We will continue with the logistic regression as a modelling exercise to confirm best plan of action"
   ]
  },
  {
   "cell_type": "code",
   "execution_count": 185,
   "metadata": {},
   "outputs": [
    {
     "name": "stdout",
     "output_type": "stream",
     "text": [
      "GridSearchCV(cv=5, error_score='raise',\n",
      "       estimator=LogisticRegression(C=1.0, class_weight=None, dual=False, fit_intercept=True,\n",
      "          intercept_scaling=1, max_iter=100, multi_class='ovr', n_jobs=1,\n",
      "          penalty='l2', random_state=None, solver='liblinear', tol=0.0001,\n",
      "          verbose=0, warm_start=False),\n",
      "       fit_params={}, iid=True, n_jobs=1,\n",
      "       param_grid={'C': array([  1.00000e-05,   1.12332e-05, ...,   8.90215e-01,   1.00000e+00]), 'solver': ['liblinear'], 'penalty': ['l1', 'l2']},\n",
      "       pre_dispatch='2*n_jobs', refit=True, return_train_score=True,\n",
      "       scoring=None, verbose=1)\n",
      "Fitting 5 folds for each of 200 candidates, totalling 1000 fits\n",
      "0.792792792793\n",
      "{'solver': 'liblinear', 'C': 0.038535285937105271, 'penalty': 'l1'}\n"
     ]
    },
    {
     "name": "stderr",
     "output_type": "stream",
     "text": [
      "[Parallel(n_jobs=1)]: Done 1000 out of 1000 | elapsed:    6.0s finished\n"
     ]
    }
   ],
   "source": [
    "# LogisticRegression classification\n",
    "# Set parameters for gridsearching\n",
    "\n",
    "gs_params = {\n",
    "    'penalty':['l1','l2'],\n",
    "    'solver':['liblinear'],\n",
    "    'C':np.logspace(-5,0,100)\n",
    "}\n",
    "\n",
    "# pass gridsearching with logistic regression and parameters\n",
    "\n",
    "lr_gridsearch = GridSearchCV(LogisticRegression(), gs_params, cv=5, verbose=1)\n",
    "print (lr_gridsearch)\n",
    "\n",
    "lr_gridsearch.fit(Xs_overall, y)\n",
    "\n",
    "# print optimal logreg scores and parameters\n",
    "print (lr_gridsearch.best_score_)\n",
    "print (lr_gridsearch.best_params_)"
   ]
  },
  {
   "cell_type": "code",
   "execution_count": 186,
   "metadata": {},
   "outputs": [
    {
     "name": "stdout",
     "output_type": "stream",
     "text": [
      "GridSearchCV(cv=5, error_score='raise',\n",
      "       estimator=LogisticRegression(C=1.0, class_weight=None, dual=False, fit_intercept=True,\n",
      "          intercept_scaling=1, max_iter=100, multi_class='ovr', n_jobs=1,\n",
      "          penalty='l2', random_state=None, solver='liblinear', tol=0.0001,\n",
      "          verbose=0, warm_start=False),\n",
      "       fit_params={}, iid=True, n_jobs=1,\n",
      "       param_grid={'C': array([  1.00000e-05,   1.12332e-05, ...,   8.90215e-01,   1.00000e+00]), 'solver': ['liblinear'], 'penalty': ['l1', 'l2']},\n",
      "       pre_dispatch='2*n_jobs', refit=True, return_train_score=True,\n",
      "       scoring=None, verbose=1)\n",
      "Fitting 5 folds for each of 200 candidates, totalling 1000 fits\n",
      "0.792792792793\n",
      "{'solver': 'liblinear', 'C': 0.038535285937105271, 'penalty': 'l1'}\n"
     ]
    },
    {
     "name": "stderr",
     "output_type": "stream",
     "text": [
      "[Parallel(n_jobs=1)]: Done 1000 out of 1000 | elapsed:    7.7s finished\n"
     ]
    }
   ],
   "source": [
    "# pass gridsearching with logistic regression and parameters\n",
    "\n",
    "lr_gridsearch = GridSearchCV(LogisticRegression(), gs_params, cv=5, verbose=1)\n",
    "print (lr_gridsearch)\n",
    "\n",
    "lr_gridsearch.fit(Xs_overall, y)\n",
    "\n",
    "# print optimal logreg scores and parameters\n",
    "print (lr_gridsearch.best_score_)\n",
    "print (lr_gridsearch.best_params_)"
   ]
  },
  {
   "cell_type": "code",
   "execution_count": 187,
   "metadata": {},
   "outputs": [
    {
     "name": "stdout",
     "output_type": "stream",
     "text": [
      "0.792792792793\n"
     ]
    },
    {
     "name": "stderr",
     "output_type": "stream",
     "text": [
      "/usr/local/lib/python3.5/dist-packages/ipykernel_launcher.py:11: FutureWarning: sort(columns=....) is deprecated, use sort_values(by=.....)\n",
      "  # This is added back by InteractiveShellApp.init_path()\n"
     ]
    },
    {
     "data": {
      "text/html": [
       "<div>\n",
       "<table border=\"1\" class=\"dataframe\">\n",
       "  <thead>\n",
       "    <tr style=\"text-align: right;\">\n",
       "      <th></th>\n",
       "      <th>coefficient</th>\n",
       "      <th>feature</th>\n",
       "    </tr>\n",
       "  </thead>\n",
       "  <tbody>\n",
       "    <tr>\n",
       "      <th>18</th>\n",
       "      <td>0.314165</td>\n",
       "      <td>1_accounting</td>\n",
       "    </tr>\n",
       "    <tr>\n",
       "      <th>0</th>\n",
       "      <td>0.000000</td>\n",
       "      <td>t_ba</td>\n",
       "    </tr>\n",
       "    <tr>\n",
       "      <th>17</th>\n",
       "      <td>0.000000</td>\n",
       "      <td>1_SciTech</td>\n",
       "    </tr>\n",
       "    <tr>\n",
       "      <th>31</th>\n",
       "      <td>0.000000</td>\n",
       "      <td>1_property</td>\n",
       "    </tr>\n",
       "    <tr>\n",
       "      <th>30</th>\n",
       "      <td>0.000000</td>\n",
       "      <td>1_miningEnergy</td>\n",
       "    </tr>\n",
       "    <tr>\n",
       "      <th>29</th>\n",
       "      <td>0.000000</td>\n",
       "      <td>1_media</td>\n",
       "    </tr>\n",
       "    <tr>\n",
       "      <th>28</th>\n",
       "      <td>0.000000</td>\n",
       "      <td>1_manufacturing</td>\n",
       "    </tr>\n",
       "    <tr>\n",
       "      <th>27</th>\n",
       "      <td>0.000000</td>\n",
       "      <td>1_management</td>\n",
       "    </tr>\n",
       "    <tr>\n",
       "      <th>26</th>\n",
       "      <td>0.000000</td>\n",
       "      <td>1_legal</td>\n",
       "    </tr>\n",
       "    <tr>\n",
       "      <th>25</th>\n",
       "      <td>0.000000</td>\n",
       "      <td>1_health</td>\n",
       "    </tr>\n",
       "  </tbody>\n",
       "</table>\n",
       "</div>"
      ],
      "text/plain": [
       "    coefficient          feature\n",
       "18     0.314165     1_accounting\n",
       "0      0.000000             t_ba\n",
       "17     0.000000        1_SciTech\n",
       "31     0.000000       1_property\n",
       "30     0.000000   1_miningEnergy\n",
       "29     0.000000          1_media\n",
       "28     0.000000  1_manufacturing\n",
       "27     0.000000     1_management\n",
       "26     0.000000          1_legal\n",
       "25     0.000000         1_health"
      ]
     },
     "execution_count": 187,
     "metadata": {},
     "output_type": "execute_result"
    }
   ],
   "source": [
    "# export the R^2 scores and logistic Regression coefficients\n",
    "\n",
    "best_lr = lr_gridsearch.best_estimator_\n",
    "\n",
    "print (best_lr.score(Xs_overall, y))\n",
    "\n",
    "coef_df_overall = pd.DataFrame({\n",
    "        'coefficient':np.abs(best_lr.coef_[0]),\n",
    "        'feature':X_overall.columns})\n",
    "\n",
    "coef_df_overall.sort('coefficient',ascending=False).head(10)\n"
   ]
  },
  {
   "cell_type": "markdown",
   "metadata": {},
   "source": [
    "# Skills and keywords\n",
    "Now we will conduct modelling predict how keywords and skills can help us better with accuracy salary"
   ]
  },
  {
   "cell_type": "code",
   "execution_count": 197,
   "metadata": {
    "collapsed": true
   },
   "outputs": [],
   "source": [
    "# create new df\n",
    "\n",
    "X_kws = jobs_final[['python', 'java', 'ruby', 'javascript', 'data',\n",
    "        'matlab', 'scala', 'excel', 'tableau', 'sas','html',\n",
    "        'hadoop', 'mapreduce','spark', 'pig', 'hive', 'stats',\n",
    "        'zookeeper', 'flume', 'sql', 'nosql',\n",
    "        'mongodb', 'aws', 'unstructured',\n",
    "        'structured', 'curiosity','communication',\n",
    "        'learning', 'visualization',\n",
    "        'engineering', 'maths', 'design',\n",
    "        'development', 'administration', 'management','research',\n",
    "        'modeling', 'predictive',\n",
    "        'intelligence', 'optimization', 'mining','science',\n",
    "        'cloud', 'statistics',\n",
    "        'analysis', 'nlp',\n",
    "        'simulation', 'simulations', 'classification', 'clustering','regression',\n",
    "        'entrepreneurial', 'entrepreneur', 'team','systems',\n",
    "        'wrangling',\n",
    "        'deep', 'network', 'neural',\n",
    "        'pandas', 'numpy', 'bi',\n",
    "        'word', 'powerpoint', 'studio','ms',\n",
    "        'presentation','writing',\n",
    "        'bachelors','bachelor','masters','phd']]\n",
    "\n",
    "Xs_kws = ss.fit_transform(X_kws)"
   ]
  },
  {
   "cell_type": "code",
   "execution_count": 198,
   "metadata": {},
   "outputs": [
    {
     "name": "stderr",
     "output_type": "stream",
     "text": [
      "............................................................................................................................................................................................................................................................................................................................................................................................................................................................................................................................................................................................................................................................................................................................................................................................................................................................................................................................................................................................................................................................................................................................................................................................................................................................................................................................................................................................................................................................................................................................................................................................................................................................................................................................................................................................................................................................................................................................................................................................................................................................................................................................................................................................................................................................................................................................................................................................................................................................................................................................................................................................................................................................................................................................................................................................................................................................................................................................................................................................................................................................................................................................................................................................................................................................................................................................................................................................................................................................................................................................................................................................................................................[Parallel(n_jobs=1)]: Done   7 out of   7 | elapsed:    8.2s finished\n"
     ]
    }
   ],
   "source": [
    "# Perform Lasso Linnear Regression\n",
    "\n",
    "# Lassco CV and git with predictors and salary target\n",
    "optimal_lasso = LassoCV(n_alphas=500, cv=7, verbose=1)\n",
    "optimal_lasso.fit(Xs_kws, y)\n",
    "\n",
    "lasso_kws = Lasso(alpha=optimal_lasso.alpha_)\n",
    "\n",
    "lasso_scores = cross_val_score(lasso_kws, Xs_kws, y, cv=7)"
   ]
  },
  {
   "cell_type": "code",
   "execution_count": 199,
   "metadata": {},
   "outputs": [
    {
     "name": "stdout",
     "output_type": "stream",
     "text": [
      "[ 0.          0.13096269  0.09879993  0.28780983 -0.04849932  0.15359577\n",
      "  0.25144331]\n",
      "0.124873172853\n"
     ]
    }
   ],
   "source": [
    "# Display the individual scores of each CV sampling method, and the average\n",
    "print (lasso_scores)\n",
    "print (np.mean(lasso_scores))"
   ]
  },
  {
   "cell_type": "code",
   "execution_count": 200,
   "metadata": {},
   "outputs": [
    {
     "data": {
      "text/html": [
       "<div>\n",
       "<table border=\"1\" class=\"dataframe\">\n",
       "  <thead>\n",
       "    <tr style=\"text-align: right;\">\n",
       "      <th></th>\n",
       "      <th>abs_coef</th>\n",
       "      <th>coef</th>\n",
       "      <th>variable</th>\n",
       "    </tr>\n",
       "  </thead>\n",
       "  <tbody>\n",
       "    <tr>\n",
       "      <th>7</th>\n",
       "      <td>0.137807</td>\n",
       "      <td>-0.137807</td>\n",
       "      <td>excel</td>\n",
       "    </tr>\n",
       "    <tr>\n",
       "      <th>35</th>\n",
       "      <td>0.064764</td>\n",
       "      <td>-0.064764</td>\n",
       "      <td>research</td>\n",
       "    </tr>\n",
       "    <tr>\n",
       "      <th>42</th>\n",
       "      <td>0.044292</td>\n",
       "      <td>0.044292</td>\n",
       "      <td>cloud</td>\n",
       "    </tr>\n",
       "    <tr>\n",
       "      <th>31</th>\n",
       "      <td>0.043332</td>\n",
       "      <td>0.043332</td>\n",
       "      <td>design</td>\n",
       "    </tr>\n",
       "    <tr>\n",
       "      <th>4</th>\n",
       "      <td>0.031876</td>\n",
       "      <td>0.031876</td>\n",
       "      <td>data</td>\n",
       "    </tr>\n",
       "    <tr>\n",
       "      <th>53</th>\n",
       "      <td>0.031187</td>\n",
       "      <td>-0.031187</td>\n",
       "      <td>team</td>\n",
       "    </tr>\n",
       "    <tr>\n",
       "      <th>26</th>\n",
       "      <td>0.027628</td>\n",
       "      <td>-0.027628</td>\n",
       "      <td>communication</td>\n",
       "    </tr>\n",
       "    <tr>\n",
       "      <th>0</th>\n",
       "      <td>0.027393</td>\n",
       "      <td>0.027393</td>\n",
       "      <td>python</td>\n",
       "    </tr>\n",
       "    <tr>\n",
       "      <th>23</th>\n",
       "      <td>0.018300</td>\n",
       "      <td>-0.018300</td>\n",
       "      <td>unstructured</td>\n",
       "    </tr>\n",
       "    <tr>\n",
       "      <th>62</th>\n",
       "      <td>0.007970</td>\n",
       "      <td>0.007970</td>\n",
       "      <td>word</td>\n",
       "    </tr>\n",
       "  </tbody>\n",
       "</table>\n",
       "</div>"
      ],
      "text/plain": [
       "    abs_coef      coef       variable\n",
       "7   0.137807 -0.137807          excel\n",
       "35  0.064764 -0.064764       research\n",
       "42  0.044292  0.044292          cloud\n",
       "31  0.043332  0.043332         design\n",
       "4   0.031876  0.031876           data\n",
       "53  0.031187 -0.031187           team\n",
       "26  0.027628 -0.027628  communication\n",
       "0   0.027393  0.027393         python\n",
       "23  0.018300 -0.018300   unstructured\n",
       "62  0.007970  0.007970           word"
      ]
     },
     "execution_count": 200,
     "metadata": {},
     "output_type": "execute_result"
    }
   ],
   "source": [
    "# Validate the LassoCV with a lasso fit and investigate the predictor coefficients\n",
    "\n",
    "lasso_kws.fit(Xs_kws, y)\n",
    "\n",
    "lasso_coefs_kws = pd.DataFrame({'variable':X_keywords.columns,\n",
    "                            'coef':lasso_kws.coef_,\n",
    "                            'abs_coef':np.abs(lasso_kws.coef_)})\n",
    "\n",
    "lasso_coefs_kws.sort_values('abs_coef', inplace=True, ascending=False)\n",
    "\n",
    "lasso_coefs_kws.head(10)"
   ]
  },
  {
   "cell_type": "code",
   "execution_count": 201,
   "metadata": {},
   "outputs": [
    {
     "name": "stderr",
     "output_type": "stream",
     "text": [
      "................................................................................................................................................................................................................................................................................................................................................................................................................................................................................................................................................................................................................................................................................................................................................................................................................................................................................................................................................................................................................................................................................................................................................................................................................................................................................................................................................................................................................................................................................................................................................................................................................................................................................................................................................................................................................................................................................................................................................................................................................................................................................................................................................................................................................................................................................................................................................................................................................................................................................................................................................................................................................................................................................................................................................................................................................................................................................................................................................................................................................................................................................................................................................................................................................................................................................................................................................................................................................................................................................................................................................................................................................................................................................................................................................................................................................................................................................................................................................................................................................................................................................................................................................................................................................................................................................................................................................................................................................................................................................................................................................................................................................................................................................................................................................................................................................................................................................................................................................................................................................................................................................................./usr/local/lib/python3.5/dist-packages/sklearn/linear_model/coordinate_descent.py:484: ConvergenceWarning: Objective did not converge. You might want to increase the number of iterations. Fitting data with very small alpha may cause precision problems.\n",
      "  ConvergenceWarning)\n"
     ]
    },
    {
     "name": "stderr",
     "output_type": "stream",
     "text": [
      ".........................................................................................................................................................................................................................................................................................................................................................................................................................................................................................................................................................................................................................................................................................................................................................................................................................................................................................................................................................................................................................................................................................................................................................................................................................................................................................................................................................................................................................................................................................................................................................................................................................................................................................................................................................................................................................................................................................................................................................................................................................................................................................................................................................................................................................................................................................................................................................................................................................................................................................................................................................................................................................................................................................................................................................................................................................................................................................................................................................................................................................................................................................................................................................................................................................................................................................................................................................................................................................................................................................................................................................................................................................................................................................................................................................................................................................................................................................................................................................................................................................................................................................................................................................................................................................................................................................................................................................................................................................................................................................................................................................................................................................................................................................................................................................................................................................................................................................................................................................................................................................................................................................................................................................................................................................................................................................................................................................................................................................................................................................................................................................................................................................................................................................................................................................................................................................................................................................................................................................................................................................................................................................................................................................................................................................................................................................................................................................................................................................................................................................................................................................................................................................................................................................................................................................................................................................................................................................................................................................................................................................................................................................................................................................................................................................................................................................................................................................................................................................................................................................................................................................................................................................................................................................................................................................................................................................................................................................................................................................................................................................................................................................................................................................................................................................................................................................................................................................................................................................................................................................................................................."
     ]
    },
    {
     "name": "stderr",
     "output_type": "stream",
     "text": [
      "......................................................................................................................................................................................................................................................................................................................................................................................................................................................................................................................................................................................................................................................................................................................................................................................................................................................................................................................................................................................................................................................................................................................................................................................................................................................................................................................................................................................................................................................................................................................................................................................................................................................................................................................................................................................................................................................................................................................................................................................................................................................................................................................................................................................................................................................................................................................................................................................................................................................................................................................................................................................................................................................................................................................................................................................................................................................................................................................................................................................................................................................................................................................................................................................................................................................................................................................................................................................................................................................................................................................................................................................................................................................................................................................................................................................................................................................................................................................................................................................................................................................................................................................................................................................................................................................................................................................................................................................................................................................................................................................................................................................................................................................................................................................................................................................................................................................................................................................................................................................................................................................................................................................................................................................................................................................................................................................................................................................................................................................................................................................................................................................................................................................................................................................................................................................................................................................................................................................................................................................................................................................................................................................................................................................................................................................................................................................................................................................................................................................................................................................................................................................................................................................................................................................................................................................................................................................................................................................................................................................................................................................................................................................................................................................................................................................................................................................................................................................................................................................................................................................................................................................................................................................................................................................................................................................................................................................................................................................................................................................................................................................................................................................................................................................................................................................................................................................................................................................................................................................................................................................................"
     ]
    },
    {
     "name": "stderr",
     "output_type": "stream",
     "text": [
      "..............................................................................................................................................................................................................................................................................................................................................................................................................................................................................................................................................................................................................................................................................................................................................................................................................................................................................................................................................................................................................................................................................................................................................................................................................................................................................................................................................................................................................................................................................................................................................................................................................................................................................................................................................................................................................................................................................................................................................................................................................................................................................................................................................................................................................................................................................................................................................................................................................................................................................................................................................................................................................................................................................................................................................................................................................................................................................................................................................................................................................................................................................................................................................................................................................................................................................................................................................................................................................................................................................................................................................................................................................................................................................................................................................................................................................................................."
     ]
    },
    {
     "name": "stdout",
     "output_type": "stream",
     "text": [
      "0.0944280490474\n",
      "0.21625\n"
     ]
    },
    {
     "name": "stderr",
     "output_type": "stream",
     "text": [
      "........[Parallel(n_jobs=1)]: Done 250 out of 250 | elapsed:  1.5min finished\n"
     ]
    }
   ],
   "source": [
    "# we will try elaticsnetCV and see how it compares as ridge regression would\n",
    "# not be beneficial - just a personal hunch!!\n",
    "\n",
    "l1_ratios = np.linspace(0.01, 1.0, 25)\n",
    "\n",
    "optimal_enet = ElasticNetCV(l1_ratio=l1_ratios, n_alphas=100, cv=10,\n",
    "                            verbose=1)\n",
    "optimal_enet.fit(Xs_kws, y)\n",
    "\n",
    "print (optimal_enet.alpha_)\n",
    "print (optimal_enet.l1_ratio_)"
   ]
  },
  {
   "cell_type": "code",
   "execution_count": 202,
   "metadata": {},
   "outputs": [
    {
     "name": "stdout",
     "output_type": "stream",
     "text": [
      "[ 0.          0.00418563 -0.03876589  0.16832931  0.37813862  0.16140808\n",
      " -0.02478817  0.08071358  0.07191765  0.38461687]\n",
      "0.118575567128\n"
     ]
    }
   ],
   "source": [
    "enet = ElasticNet(alpha=optimal_enet.alpha_, l1_ratio=optimal_enet.l1_ratio_)\n",
    "\n",
    "enet_scores = cross_val_score(enet, Xs_keywords, y, cv=10)\n",
    "\n",
    "print (enet_scores)\n",
    "print (np.mean(enet_scores))"
   ]
  },
  {
   "cell_type": "markdown",
   "metadata": {},
   "source": [
    "# Review:\n",
    "Both low R^2's not a good predictor of salary.\n",
    "Lets try a different direction and conduct classification route. Lets see if we can geta better result using a DTC.\n"
   ]
  },
  {
   "cell_type": "markdown",
   "metadata": {},
   "source": [
    "Classification Modelling - Skills and Key Words\n",
    "Decision Tree Classification"
   ]
  },
  {
   "cell_type": "code",
   "execution_count": 205,
   "metadata": {},
   "outputs": [
    {
     "name": "stdout",
     "output_type": "stream",
     "text": [
      "Fitting 5 folds for each of 847 candidates, totalling 4235 fits\n",
      "{'max_features': None, 'max_depth': 1, 'min_samples_split': 2}\n",
      "0.792792792793\n"
     ]
    },
    {
     "name": "stderr",
     "output_type": "stream",
     "text": [
      "[Parallel(n_jobs=1)]: Done 4235 out of 4235 | elapsed:   28.5s finished\n"
     ]
    }
   ],
   "source": [
    "dtc_params = {\n",
    "    'max_depth':[None,1,2,3,4,5,6,7,8,9,10],\n",
    "    'max_features':[None,'log2','sqrt',2,3,4,5],\n",
    "    'min_samples_split':[2,3,4,5,10,15,20,25,30,40,50]\n",
    "}\n",
    "\n",
    "dtc_kws = DecisionTreeClassifier()\n",
    "dtc_kws_gs = GridSearchCV(dtc_kws, dtc_params, cv=5, verbose=1, refit=True)\n",
    "\n",
    "dtc_kws_gs.fit(Xs_keywords, y)\n",
    "\n",
    "dtc_kws_best = dtc_gs.best_estimator_\n",
    "print (dtc_kws_gs.best_params_)\n",
    "print (dtc_kws_gs.best_score_)"
   ]
  },
  {
   "cell_type": "code",
   "execution_count": 207,
   "metadata": {},
   "outputs": [
    {
     "name": "stdout",
     "output_type": "stream",
     "text": [
      "[ 0.91111111  0.71111111  0.70454545  0.77272727  0.72727273]\n",
      "0.765353535354\n"
     ]
    }
   ],
   "source": [
    "# Validate the gridsearch and R^2\n",
    "\n",
    "dtr_kws = DecisionTreeClassifier(max_features='log2',min_samples_split=20,max_depth=None)\n",
    "\n",
    "dtr_kws.fit(Xs_kws, y)\n",
    "\n",
    "dtr_kws_scores = cross_val_score(dtr_kws, Xs_kws, y, cv=5)\n",
    "print (dtr_kws_scores)\n",
    "print (sum(dtr_kws_scores)/len(dtr_kws_scores))"
   ]
  },
  {
   "cell_type": "code",
   "execution_count": 211,
   "metadata": {
    "collapsed": true
   },
   "outputs": [],
   "source": [
    "# Much better result, the dtc in this case is a better model for \n",
    "# this exercise."
   ]
  },
  {
   "cell_type": "markdown",
   "metadata": {},
   "source": [
    "# Part 2"
   ]
  },
  {
   "cell_type": "markdown",
   "metadata": {},
   "source": [
    "# 2.1\n",
    "What components of a job posting distinguish data scientists from other data jobs?\n"
   ]
  },
  {
   "cell_type": "code",
   "execution_count": 226,
   "metadata": {},
   "outputs": [],
   "source": [
    "# Setup data scientist predictors\n",
    "\n",
    "ds_pv = jobs_final[['python','java', 'ruby', 'javascript', 'data', 'matlab', 'scala',\n",
    "       'excel', 'tableau', 'sas', 'html', 'hadoop', 'mapreduce',\n",
    "       'spark', 'pig', 'hive', 'stats', 'zookeeper', 'flume', 'sql',\n",
    "       'nosql', 'mongodb', 'aws', 'unstructured',\n",
    "       'structured', 'curiosity', 'communication', 'learning',\n",
    "       'statistics', 'visualization', 'engineering', 'maths',\n",
    "       'design', 'development', 'administration',\n",
    "       'research', 'modeling', 'predictive', 'intelligence',\n",
    "       'optimization', 'mining', 'science', 'cloud',\n",
    "       'analysis', 'nlp', 'simulation', 'simulations',\n",
    "       'classification', 'clustering', 'regression', 'entrepreneurial',\n",
    "       'entrepreneur', 'team', 'systems', 'wrangling',\n",
    "       'deep', 'network', 'neural', 'pandas', 'numpy', 'bi',\n",
    "        'word', 'powerpoint', 'studio', 'management',\n",
    "       'ms', 'presentation', 'writing', 'bachelors',\n",
    "       'bachelor', 'masters', 't_ba', 't_bd', 't_ds', 't_ml',\n",
    "       'r_junior', 'r_manager', 'r_senior', 'r_specialist','1_BFS', '1_ConsStrat', '1_Education', '1_Gov', '1_HR',\n",
    "       '1_ICT', '1_InsurSuper', '1_MarkComms', '1_Sales', '1_SciTech',\n",
    "       '1_accounting', '1_admin', '1_architecture', '1_construct',\n",
    "       '1_csd', '1_customerS', '1_engineering', '1_health', '1_legal',\n",
    "       '1_management', '1_manufacturing', '1_media', '1_miningEnergy',\n",
    "       '1_property', '1_retail']]"
   ]
  },
  {
   "cell_type": "code",
   "execution_count": 227,
   "metadata": {},
   "outputs": [],
   "source": [
    "Xs_ds_pv = ss.fit_transform(ds_pv)\n",
    "\n",
    "# Set up data scientist target\n",
    "\n",
    "y_ds = jobs_final['t_ds']"
   ]
  },
  {
   "cell_type": "code",
   "execution_count": 228,
   "metadata": {},
   "outputs": [
    {
     "data": {
      "image/png": "[encoded data removed]",
      "text/plain": [
       "<matplotlib.figure.Figure at 0x7f412ce6e9e8>"
      ]
     },
     "metadata": {},
     "output_type": "display_data"
    }
   ],
   "source": [
    "# Plot the counts of data science v.s other roles\n",
    "\n",
    "y_ds.value_counts().plot(kind='bar') \n",
    "plt.show()"
   ]
  },
  {
   "cell_type": "code",
   "execution_count": 229,
   "metadata": {
    "collapsed": true
   },
   "outputs": [],
   "source": [
    "# Decision Tree gridsearch to get the optimal decision tree model\n",
    "\n",
    "dtc_params = {\n",
    "    'max_depth':[None,1,2,3,4,5,6,7,8,9,10],\n",
    "    'max_features':[None,'log2','sqrt',2,3,4,5],\n",
    "    'min_samples_split':[2,3,4,5,10,15,20,25,30,40,50]\n",
    "}"
   ]
  },
  {
   "cell_type": "code",
   "execution_count": 230,
   "metadata": {},
   "outputs": [
    {
     "name": "stdout",
     "output_type": "stream",
     "text": [
      "Fitting 5 folds for each of 847 candidates, totalling 4235 fits\n",
      "{'max_features': None, 'max_depth': None, 'min_samples_split': 3}\n",
      "1.0\n"
     ]
    },
    {
     "name": "stderr",
     "output_type": "stream",
     "text": [
      "[Parallel(n_jobs=1)]: Done 4235 out of 4235 | elapsed:   31.1s finished\n"
     ]
    }
   ],
   "source": [
    "from sklearn.model_selection import GridSearchCV\n",
    "\n",
    "dtc = DecisionTreeClassifier()\n",
    "dtc_gs = GridSearchCV(dtc, dtc_params, cv=5, verbose=1, refit=True)\n",
    "\n",
    "dtc_gs.fit(Xs_ds_pv, y_ds)\n",
    "\n",
    "dtc_best = dtc_gs.best_estimator_\n",
    "\n",
    "print (dtc_gs.best_params_)\n",
    "print (dtc_gs.best_score_)"
   ]
  },
  {
   "cell_type": "code",
   "execution_count": 231,
   "metadata": {
    "collapsed": true
   },
   "outputs": [],
   "source": [
    "# Validate Decision tree model and R^2\n",
    "\n",
    "dtr_ds = DecisionTreeClassifier(max_features=3,min_samples_split=2,max_depth=None)\n",
    "\n",
    "dtr_ds.fit(Xs_ds_pv, y_ds)\n",
    "\n",
    "dtr_ds_scores = cross_val_score(dtr_ds, ds_pv, y_ds, cv=5)"
   ]
  },
  {
   "cell_type": "code",
   "execution_count": 225,
   "metadata": {},
   "outputs": [
    {
     "name": "stdout",
     "output_type": "stream",
     "text": [
      "[ 1.          0.97777778  1.          1.          1.        ]\n",
      "0.995555555556\n"
     ]
    }
   ],
   "source": [
    "# Export scores of validated model\n",
    "\n",
    "print (dtr_ds_scores)\n",
    "print ((sum(dtr_ds_scores)/len(dtr_ds_scores)))\n"
   ]
  },
  {
   "cell_type": "code",
   "execution_count": null,
   "metadata": {
    "collapsed": true
   },
   "outputs": [],
   "source": [
    "# WOW > POW.... what a result.  we have our model! Only ds jobs but \n",
    "# clearly this should be very accurate as its teh min search."
   ]
  },
  {
   "cell_type": "markdown",
   "metadata": {},
   "source": [
    "# 2.2\n",
    "What features are important for distinguishing junior vs. senior positions?"
   ]
  },
  {
   "cell_type": "code",
   "execution_count": 232,
   "metadata": {
    "collapsed": true
   },
   "outputs": [],
   "source": [
    "# Create a classification dictionary for the 'industry' variable:\n",
    "\n",
    "industry_cl = {'Information & Communication Technology':1,'Accounting':2, 'Banking & Financial Services':3,\n",
    "                       'Consulting & Strategy':4 ,'Science & Technology':5,'Marketing & Communications':6,\n",
    "                       'Government & Defence':7 ,'Insurance & Superannuation':8,'Education & Training':9,'Sales':10}\n",
    "\n",
    "# Map the cl dictionary to the industry variable and create the multinomial classification target\n",
    "# I will only include the top-10 industries in this classification analysis\n"
   ]
  },
  {
   "cell_type": "code",
   "execution_count": 234,
   "metadata": {},
   "outputs": [
    {
     "name": "stdout",
     "output_type": "stream",
     "text": [
      "                 industry  industry_t\n",
      "8   Consulting & Strategy           4\n",
      "14   Science & Technology           5\n",
      "28  Consulting & Strategy           4\n",
      "34   Science & Technology           5\n",
      "46  Consulting & Strategy           4\n",
      "56   Science & Technology           5\n",
      "68  Consulting & Strategy           4\n",
      "74   Science & Technology           5\n",
      "86  Consulting & Strategy           4\n",
      "96   Science & Technology           5\n"
     ]
    }
   ],
   "source": [
    "jobs_final['industry_t'] = jobs_final['industry'].map(industry_cl)\n",
    "\n",
    "# for all other variables I will set to a class of 0\n",
    "\n",
    "jobs_final['industry_t'] = jobs_final['industry_t'].fillna(0)\n",
    "\n",
    "# Check the industry mapping\n",
    "\n",
    "print (jobs_final[['industry','industry_t']].head(10))\n"
   ]
  },
  {
   "cell_type": "code",
   "execution_count": 239,
   "metadata": {
    "collapsed": true
   },
   "outputs": [],
   "source": [
    "ind_cl = jobs_final[['python','java', 'ruby', 'javascript', 'data', 'matlab', 'scala',\n",
    "       'excel', 'tableau', 'sas', 'html', 'hadoop', 'mapreduce',\n",
    "       'spark', 'pig', 'hive', 'stats', 'zookeeper', 'flume', 'sql',\n",
    "       'nosql', 'mongodb', 'aws', 'unstructured',\n",
    "       'structured', 'curiosity', 'communication', 'learning',\n",
    "       'statistics', 'visualization', 'engineering', 'maths',\n",
    "       'design', 'development', 'administration',\n",
    "       'research', 'modeling', 'predictive', 'intelligence',\n",
    "       'optimization', 'mining', 'science', 'cloud',\n",
    "       'analysis', 'nlp', 'simulation', 'simulations',\n",
    "       'classification', 'clustering', 'regression', 'entrepreneurial',\n",
    "       'entrepreneur', 'team', 'systems', 'wrangling',\n",
    "       'deep', 'network', 'neural', 'pandas', 'numpy', 'bi',\n",
    "        'word', 'powerpoint', 'studio', 'management',\n",
    "       'ms', 'presentation', '1_BFS', '1_ConsStrat', '1_Education', '1_Gov', '1_HR',\n",
    "       '1_ICT', '1_InsurSuper', '1_MarkComms', '1_Sales', '1_SciTech',\n",
    "       '1_accounting', '1_admin', '1_architecture', '1_construct',\n",
    "       '1_csd', '1_customerS', '1_engineering', '1_health', '1_legal',\n",
    "       '1_management', '1_manufacturing', '1_media', '1_miningEnergy',\n",
    "       '1_property', '1_retail']]"
   ]
  },
  {
   "cell_type": "code",
   "execution_count": 240,
   "metadata": {},
   "outputs": [
    {
     "name": "stdout",
     "output_type": "stream",
     "text": [
      "Fitting 5 folds for each of 200 candidates, totalling 1000 fits\n"
     ]
    },
    {
     "name": "stderr",
     "output_type": "stream",
     "text": [
      "/usr/local/lib/python3.5/dist-packages/sklearn/model_selection/_split.py:581: Warning: The least populated class in y has only 1 members, which is too few. The minimum number of groups for any class cannot be less than n_splits=5.\n",
      "  % (min_groups, self.n_splits)), Warning)\n"
     ]
    },
    {
     "name": "stdout",
     "output_type": "stream",
     "text": [
      "0.972972972973\n",
      "{'solver': 'liblinear', 'C': 0.31257158496882353, 'penalty': 'l1'}\n"
     ]
    },
    {
     "name": "stderr",
     "output_type": "stream",
     "text": [
      "[Parallel(n_jobs=1)]: Done 1000 out of 1000 | elapsed:   13.2s finished\n"
     ]
    }
   ],
   "source": [
    "# Set industry class as target\n",
    "\n",
    "y_ind = jobs_final['industry_t']\n",
    "\n",
    "#Logistic Regression - Industry\n",
    "\n",
    "# Perform gridsearch on logistic regression with industry variables/target\n",
    "\n",
    "lr_gridsearch.fit(ind_cl, y_ind)\n",
    "\n",
    "print (lr_gridsearch.best_score_)\n",
    "print (lr_gridsearch.best_params_)"
   ]
  },
  {
   "cell_type": "code",
   "execution_count": 242,
   "metadata": {
    "collapsed": true
   },
   "outputs": [],
   "source": [
    "# Export the coefficients from the optimised logreg model\n",
    "\n",
    "best_lr_skills = lr_gridsearch.best_estimator_\n"
   ]
  },
  {
   "cell_type": "code",
   "execution_count": 244,
   "metadata": {},
   "outputs": [
    {
     "data": {
      "text/html": [
       "<div>\n",
       "<table border=\"1\" class=\"dataframe\">\n",
       "  <thead>\n",
       "    <tr style=\"text-align: right;\">\n",
       "      <th></th>\n",
       "      <th>ICT</th>\n",
       "      <th>Accounting</th>\n",
       "      <th>Banking_FS</th>\n",
       "      <th>Consulting_Strategy</th>\n",
       "      <th>Science_Technology</th>\n",
       "      <th>Marketing</th>\n",
       "      <th>Government</th>\n",
       "      <th>Insurance</th>\n",
       "      <th>Education</th>\n",
       "    </tr>\n",
       "  </thead>\n",
       "  <tbody>\n",
       "    <tr>\n",
       "      <th>python</th>\n",
       "      <td>0.000000</td>\n",
       "      <td>0.000000</td>\n",
       "      <td>0.000000</td>\n",
       "      <td>0.000000</td>\n",
       "      <td>0</td>\n",
       "      <td>0.000000</td>\n",
       "      <td>0.000000</td>\n",
       "      <td>0.000000</td>\n",
       "      <td>0.000000</td>\n",
       "    </tr>\n",
       "    <tr>\n",
       "      <th>java</th>\n",
       "      <td>0.000000</td>\n",
       "      <td>0.000000</td>\n",
       "      <td>0.000000</td>\n",
       "      <td>0.000000</td>\n",
       "      <td>0</td>\n",
       "      <td>0.000000</td>\n",
       "      <td>0.000000</td>\n",
       "      <td>0.000000</td>\n",
       "      <td>0.000000</td>\n",
       "    </tr>\n",
       "    <tr>\n",
       "      <th>ruby</th>\n",
       "      <td>0.000000</td>\n",
       "      <td>0.000000</td>\n",
       "      <td>0.000000</td>\n",
       "      <td>0.000000</td>\n",
       "      <td>0</td>\n",
       "      <td>0.000000</td>\n",
       "      <td>0.000000</td>\n",
       "      <td>0.000000</td>\n",
       "      <td>0.000000</td>\n",
       "    </tr>\n",
       "    <tr>\n",
       "      <th>javascript</th>\n",
       "      <td>0.000000</td>\n",
       "      <td>0.000000</td>\n",
       "      <td>0.000000</td>\n",
       "      <td>0.000000</td>\n",
       "      <td>0</td>\n",
       "      <td>0.000000</td>\n",
       "      <td>0.000000</td>\n",
       "      <td>0.000000</td>\n",
       "      <td>0.000000</td>\n",
       "    </tr>\n",
       "    <tr>\n",
       "      <th>data</th>\n",
       "      <td>0.117924</td>\n",
       "      <td>0.136999</td>\n",
       "      <td>0.229689</td>\n",
       "      <td>0.086722</td>\n",
       "      <td>0</td>\n",
       "      <td>0.035557</td>\n",
       "      <td>0.036595</td>\n",
       "      <td>0.200972</td>\n",
       "      <td>0.202835</td>\n",
       "    </tr>\n",
       "  </tbody>\n",
       "</table>\n",
       "</div>"
      ],
      "text/plain": [
       "                 ICT  Accounting  Banking_FS  Consulting_Strategy  \\\n",
       "python      0.000000    0.000000    0.000000             0.000000   \n",
       "java        0.000000    0.000000    0.000000             0.000000   \n",
       "ruby        0.000000    0.000000    0.000000             0.000000   \n",
       "javascript  0.000000    0.000000    0.000000             0.000000   \n",
       "data        0.117924    0.136999    0.229689             0.086722   \n",
       "\n",
       "            Science_Technology  Marketing  Government  Insurance  Education  \n",
       "python                       0   0.000000    0.000000   0.000000   0.000000  \n",
       "java                         0   0.000000    0.000000   0.000000   0.000000  \n",
       "ruby                         0   0.000000    0.000000   0.000000   0.000000  \n",
       "javascript                   0   0.000000    0.000000   0.000000   0.000000  \n",
       "data                         0   0.035557    0.036595   0.200972   0.202835  "
      ]
     },
     "execution_count": 244,
     "metadata": {},
     "output_type": "execute_result"
    }
   ],
   "source": [
    "# Create a dataframe of the predictors and the logreg coefficients:\n",
    "\n",
    "df_cl = pd.DataFrame(np.abs(best_lr_skills.coef_))\n",
    "df_cl.columns = ind_cl.columns\n",
    "industry_class_name = ['ICT','Accounting', 'Banking_FS',\n",
    "                       'Consulting_Strategy' ,'Science_Technology','Marketing',\n",
    "                       'Government' ,'Insurance','Education']\n",
    "df_cl_transpose = pd.DataFrame.transpose(df_cl)\n",
    "df_cl_transpose.columns = industry_class_name\n",
    "\n",
    "df_cl_transpose.head()\n",
    "\n",
    "# Print and plot coefficients for ICT industry\n"
   ]
  },
  {
   "cell_type": "code",
   "execution_count": null,
   "metadata": {
    "collapsed": true
   },
   "outputs": [],
   "source": []
  }
 ],
 "metadata": {
  "kernelspec": {
   "display_name": "Python 3",
   "language": "python",
   "name": "python3"
  },
  "language_info": {
   "codemirror_mode": {
    "name": "ipython",
    "version": 3
   },
   "file_extension": ".py",
   "mimetype": "text/x-python",
   "name": "python",
   "nbconvert_exporter": "python",
   "pygments_lexer": "ipython3",
   "version": "3.5.2"
  }
 },
 "nbformat": 4,
 "nbformat_minor": 2
}
